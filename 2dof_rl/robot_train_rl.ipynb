{
 "cells": [
  {
   "cell_type": "code",
   "execution_count": 4,
   "metadata": {},
   "outputs": [],
   "source": [
    "\n",
    "import numpy as np\n",
    "import json\n",
    "import os\n",
    "\n",
    "import cv2\n",
    "import mediapy as media\n",
    "\n",
    "import mujoco\n",
    "from stable_baselines3 import PPO\n",
    "from stable_baselines3.common.env_checker import check_env\n",
    "import importlib\n",
    "\n",
    "\n",
    "# import arm_env"
   ]
  },
  {
   "cell_type": "markdown",
   "metadata": {},
   "source": [
    "# Preparation"
   ]
  },
  {
   "cell_type": "code",
   "execution_count": 2,
   "metadata": {},
   "outputs": [
    {
     "data": {
      "text/html": [
       "<table class=\"show_images\" style=\"border-spacing:0px;\"><tr><td style=\"padding:1px;\"><img width=\"320\" height=\"240\" style=\"image-rendering:auto; object-fit:cover;\" src=\"data:image/png;base64,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\"/></td></tr></table>"
      ],
      "text/plain": [
       "<IPython.core.display.HTML object>"
      ]
     },
     "metadata": {},
     "output_type": "display_data"
    }
   ],
   "source": [
    "xml_path = \"2dof_robot.xml\"\n",
    "\n",
    "# Read the XML content from the file\n",
    "with open(xml_path, 'r') as file:\n",
    "    my_robot_xml = file.read()\n",
    "model = mujoco.MjModel.from_xml_string(my_robot_xml)\n",
    "# randomize_ball_position(model, seed=None)\n",
    "data = mujoco.MjData(model)\n",
    "height = 480\n",
    "width = 640\n",
    "\n",
    "\n",
    "with mujoco.Renderer(model) as renderer:\n",
    "  mujoco.mj_forward(model, data)\n",
    "  renderer.update_scene(data)\n",
    "  media.show_image(renderer.render())"
   ]
  },
  {
   "cell_type": "markdown",
   "metadata": {},
   "source": [
    "## Let's try testing randomizing ball position"
   ]
  },
  {
   "cell_type": "code",
   "execution_count": 20,
   "metadata": {},
   "outputs": [],
   "source": [
    "def load_json_variables(json_path='global_var.json'):\n",
    "    with open(json_path, 'r') as f:\n",
    "        json_data = json.load(f)\n",
    "    return json_data\n",
    "\n",
    "def randomize_ball_position(mymodel, seed=None):\n",
    "  if seed is not None:\n",
    "    np.random.seed(seed)\n",
    "  \n",
    "  json_vars = load_json_variables()\n",
    "\n",
    "  radius = np.random.uniform(json_vars['robot_min_sweep_radius'], json_vars['robot_max_sweep_radius'])\n",
    "  angle = np.random.uniform(0, 2 * np.pi)\n",
    "  ball_pos_x = radius * np.cos(angle)\n",
    "  ball_pos_y = radius * np.sin(angle)\n",
    "\n",
    "  print(radius, angle, ball_pos_x, ball_pos_y)\n",
    "  print('Original ball position:', mymodel.body_pos[mujoco.mj_name2id(mymodel, mujoco.mjtObj.mjOBJ_BODY, 'ball')])\n",
    "  print('New ball position:', [ball_pos_x, ball_pos_y])\n",
    "  mymodel.body_pos[mujoco.mj_name2id(mymodel, mujoco.mjtObj.mjOBJ_BODY, 'ball')][0] = ball_pos_x\n",
    "  mymodel.body_pos[mujoco.mj_name2id(mymodel, mujoco.mjtObj.mjOBJ_BODY, 'ball')][1] = ball_pos_y"
   ]
  },
  {
   "cell_type": "code",
   "execution_count": 21,
   "metadata": {},
   "outputs": [
    {
     "name": "stdout",
     "output_type": "stream",
     "text": [
      "1.96382992691778 5.556684637220311 1.4679696104079454 -1.3044896338325722\n",
      "Original ball position: [-1.  -1.2  1.5]\n",
      "New ball position: [np.float64(1.4679696104079454), np.float64(-1.3044896338325722)]\n"
     ]
    },
    {
     "data": {
      "text/html": [
       "<table class=\"show_images\" style=\"border-spacing:0px;\"><tr><td style=\"padding:1px;\"><img width=\"320\" height=\"240\" style=\"image-rendering:auto; object-fit:cover;\" src=\"data:image/png;base64,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\"/></td></tr></table>"
      ],
      "text/plain": [
       "<IPython.core.display.HTML object>"
      ]
     },
     "metadata": {},
     "output_type": "display_data"
    }
   ],
   "source": [
    "# Read the XML content from the file\n",
    "with open(xml_path, 'r') as file:\n",
    "    my_robot_xml = file.read()\n",
    "model = mujoco.MjModel.from_xml_string(my_robot_xml)\n",
    "randomize_ball_position(model, seed=None)\n",
    "data = mujoco.MjData(model)\n",
    "height = 480\n",
    "width = 640\n",
    "\n",
    "\n",
    "with mujoco.Renderer(model) as renderer:\n",
    "  mujoco.mj_forward(model, data)\n",
    "  renderer.update_scene(data)\n",
    "  media.show_image(renderer.render())"
   ]
  },
  {
   "cell_type": "code",
   "execution_count": null,
   "metadata": {},
   "outputs": [],
   "source": []
  }
 ],
 "metadata": {
  "kernelspec": {
   "display_name": ".venv",
   "language": "python",
   "name": "python3"
  },
  "language_info": {
   "codemirror_mode": {
    "name": "ipython",
    "version": 3
   },
   "file_extension": ".py",
   "mimetype": "text/x-python",
   "name": "python",
   "nbconvert_exporter": "python",
   "pygments_lexer": "ipython3",
   "version": "3.11.2"
  }
 },
 "nbformat": 4,
 "nbformat_minor": 2
}
