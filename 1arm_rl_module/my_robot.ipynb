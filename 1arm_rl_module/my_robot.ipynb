{
 "cells": [
  {
   "cell_type": "code",
   "execution_count": 1,
   "metadata": {},
   "outputs": [],
   "source": [
    "import mujoco\n",
    "import os\n",
    "import cv2\n",
    "import mediapy as media\n",
    "import numpy as np"
   ]
  },
  {
   "cell_type": "code",
   "execution_count": 3,
   "metadata": {},
   "outputs": [],
   "source": [
    "def add_text_frame(texts, frame):\n",
    "    frame_bgr = cv2.cvtColor(frame, cv2.COLOR_RGB2BGR)\n",
    "    for i, t in enumerate(texts):\n",
    "        cv2.putText(frame_bgr, t, (10, 30 + i * 15), cv2.FONT_HERSHEY_SIMPLEX, 0.5, (255, 255, 255), 1, cv2.LINE_AA)\n",
    "    frame_rgb = cv2.cvtColor(frame_bgr, cv2.COLOR_BGR2RGB)\n",
    "    return frame_rgb"
   ]
  },
  {
   "cell_type": "code",
   "execution_count": 4,
   "metadata": {},
   "outputs": [],
   "source": [
    "def randomize_ball_position(mymodel, seed=None):\n",
    "  if seed is not None:\n",
    "    np.random.seed(seed)\n",
    "  # Randomize the position of the ball\n",
    "  radius = 0.36\n",
    "  ball_pos_x = np.random.uniform(-radius, radius)\n",
    "  ball_pos_y = float(np.random.choice([1, 1]) * np.sqrt(radius ** 2 - ball_pos_x ** 2))\n",
    "  print('Original ball position:', mymodel.body_pos[mujoco.mj_name2id(mymodel, mujoco.mjtObj.mjOBJ_BODY, 'ball')])\n",
    "  print('New ball position:', [ball_pos_x, ball_pos_y])\n",
    "  mymodel.body_pos[mujoco.mj_name2id(mymodel, mujoco.mjtObj.mjOBJ_BODY, 'ball')][0] = ball_pos_x\n",
    "  mymodel.body_pos[mujoco.mj_name2id(mymodel, mujoco.mjtObj.mjOBJ_BODY, 'ball')][1] = ball_pos_y"
   ]
  },
  {
   "cell_type": "code",
   "execution_count": 5,
   "metadata": {},
   "outputs": [
    {
     "name": "stdout",
     "output_type": "stream",
     "text": [
      "Original ball position: [0.2  0.3  0.95]\n",
      "New ball position: [-0.011846689611303418, 0.359805024902729]\n"
     ]
    },
    {
     "data": {
      "text/html": [
       "<table class=\"show_images\" style=\"border-spacing:0px;\"><tr><td style=\"padding:1px;\"><img width=\"320\" height=\"240\" style=\"image-rendering:auto; object-fit:cover;\" src=\"data:image/png;base64,iVBORw0KGgoAAAANSUhEUgAAAUAAAADwCAIAAAD+Tyo8AAAFNElEQVR4nO3dTWtUZxQH8HMTDabWl06UGsGtC8W0dtMItnZRKHSvrvwEXbjvB+hn6Kab4qLddNedO7twUynBIKUEClpoSW6IJpo3nVtmYiYhZiYRkwxz5vfjEnTuRZ7NP+c5Z+69RgAAAAAAAAAAAAAAAAAAAAAAAAAAAAAAAAAAAAAAAAAAAAAAAAAAAAAAAAAAAAAAAAAAAAAAAAAAAAAAAAAAAAAAAAAAAAD7qNjPf5yD9tnuLru33+sA3ta3EQsRzzseC83LSONQtxfAfm2oNv+52u5DEhDgVNrlU26zEuD85XeNIpySAKfSIZxym5IAJ9Quq60iTBoCnErnMqsI5yPAeRS7q8BinIkAp6IC9xsBTkgP3D8EOI9CBe4/ApyQHrh/DHR7AewxXwX3FRU4laLYIaSN05VeOA8BTmvbhxlIRoATKtp8Isb5CHAeXzQ30J174EonnIshVio7hrOIuLZTn0wPEeA8dplL8c3EFjqnDs8Dk4kKnNC2NVbhTUmAs3EjR18R4L4bYpGJAPf14w30OkOszAyu0lOB+yuxIp2MAPcR6c1HgLOR0r6iB07ozQf3pTorAc5jS0rbhVaYM7GFTsUQq98IcDYdIiq9+Qgw9DA9cEKGWP1DgPMwxOpDAtzzxsbGbt26FREf3blTTUx0vvm5ihg9c+bry5cj4smTJxMTEwe2TvaDHjiDsaZq10Os0dHR27dvH8jS2F8CnEG1Zj2iVZujder69etVVY2NjXV53bwzAe55ly5deh3g5hvb26W3leFTp09vvp6epgfOoBXFav2Nk23fibUWctHNQoB73kbtLYrWa5/bjqCLonGIcRYCnEErirt8pY7opqEH7nkb3ez6HGvbdG6cWi+/YpyACpzE5in02n+hss016z9FNw0B7nmb58+vP+l8/XqAxTgBAc41hd70YYd7oUU3DQHOoFVRNz/GULXbQut+ExHgPE5OTq59jdT5bsqTk5MHuSr2lQD3vC0V9c1d9DalWA+chQBnsBbFX+r1Vt97dyzKT+Lp5xFDUQw279xYiliIL7+LqROxfO+nm1dvdnfN7AkBzlOBZy5eXJyc/P5iPP4m4nzEmYgTURwtisNFtRqxFNWz6t7HEVMRv/98o7qhAicgwBmsRbEe8Sri8VcRtYjjEceiOFEcOXbkbJwto5x/Mf+qetWowx80Lnj458Nur5o94E6sntd6tGj4woWpiBhuHkcax8B7A6fi1Lk4V4va4PBgMVTEUPPs8agGzKIzUIF73sTExOrqakQcnZmJq1cjfmv8Wl7/zbwajVPDMTxUDK0MrLyea63G3V/vTk9Pd3Xh7AEBzqBer0fEfK0WESP/jpTzZSxHvIz6Un3u6NyDeLASKyvLK/EyYiVisfGzVqs9evSo2wvnXdlC97yZmZnWLrqqqpGpkZiLeNqYOVfPq6XnSwsrC8uLy9VCFc8i5hunRv4asX/OQQXOYHMaz79/vvynLE+UcbhRhGMp6ofqjenWYsRsxH+N8ntl7krl7ZQpCHDPK8tySzkd/2P8/uL98mUZC81x9FqSFyKmI17E+A/j1Ujj+rIsu7dq9saOT4DTA2rN7neL2Q9n49OIa82/LEWjK/4xan9vXDk7O3uQiwTe3kDzK6XBbi8DAAAAAAAAAAAAAAAAAAAAAAAAAAAAAAAAAAAAAAAAAAAAAAAAAAAAAAAAAAAAAAAAAAAAAAAAAAAAAAAAAAAAAAAAAAAAAAAAAAAAAAAAAAAAAAAAAAAAAAAAAAAAAAAAIHrU/6M+ySIFXDLJAAAAAElFTkSuQmCC\"/></td></tr></table>"
      ],
      "text/plain": [
       "<IPython.core.display.HTML object>"
      ]
     },
     "metadata": {},
     "output_type": "display_data"
    }
   ],
   "source": [
    "xml_path = \"myrobot.xml\"\n",
    "\n",
    "# Read the XML content from the file\n",
    "with open(xml_path, 'r') as file:\n",
    "    my_robot_xml = file.read()\n",
    "model = mujoco.MjModel.from_xml_string(my_robot_xml)\n",
    "randomize_ball_position(model, seed=None)\n",
    "data = mujoco.MjData(model)\n",
    "height = 480\n",
    "width = 640\n",
    "\n",
    "\n",
    "with mujoco.Renderer(model) as renderer:\n",
    "  mujoco.mj_forward(model, data)\n",
    "  renderer.update_scene(data, camera='my_camera')\n",
    "\n",
    "  media.show_image(renderer.render())"
   ]
  },
  {
   "cell_type": "markdown",
   "metadata": {},
   "source": [
    "# Simple 1 DOF arm with a ball\n",
    "## Goal: reach the ball"
   ]
  },
  {
   "cell_type": "markdown",
   "metadata": {},
   "source": [
    "### 1. Use PID controller"
   ]
  },
  {
   "cell_type": "code",
   "execution_count": 6,
   "metadata": {},
   "outputs": [
    {
     "name": "stdout",
     "output_type": "stream",
     "text": [
      "Original ball position: [0.2  0.3  0.95]\n",
      "New ball position: [-0.35872840219719426, 0.030231332373020153]\n"
     ]
    }
   ],
   "source": [
    "duration = 10 # seconds\n",
    "timestep = 0.01 # seconds\n",
    "fps = int(1 / timestep)\n",
    "num_frames = int(duration * fps)\n",
    "\n",
    "with open(xml_path, 'r') as file:\n",
    "    my_robot_xml = file.read()\n",
    "model = mujoco.MjModel.from_xml_string(my_robot_xml)\n",
    "randomize_ball_position(model, seed=None)\n",
    "data = mujoco.MjData(model)\n",
    "height = 480\n",
    "width = 640\n",
    "\n",
    "observed_var_dict = {\n",
    "    'time': np.zeros(num_frames),\n",
    "    'qpos': np.zeros((num_frames, model.nv)), \n",
    "    'qvel': np.zeros((num_frames, model.nv)), \n",
    "    'ctrl': np.zeros((num_frames, model.nv)),\n",
    "    }\n",
    "\n",
    "def control_strategy(model, data, integral, previous_error, time):\n",
    "    arm_tip_pos = data.geom_xpos[mujoco.mj_name2id(model, mujoco.mjtObj.mjOBJ_GEOM, 'arm_tip')]\n",
    "    ball_pos = model.body_pos[mujoco.mj_name2id(model, mujoco.mjtObj.mjOBJ_BODY, 'ball')]\n",
    "\n",
    "    distance_euclid = np.linalg.norm(arm_tip_pos - ball_pos)\n",
    "   \n",
    "    # Calculate the error between the target position and the arm tip position\n",
    "    assert arm_tip_pos.shape == ball_pos.shape == (3,)\n",
    "    angle_ball = np.arctan2(ball_pos[1], ball_pos[0])\n",
    "    angle_arm = np.arctan2(arm_tip_pos[1], arm_tip_pos[0])\n",
    "    angle_diff = angle_ball - angle_arm\n",
    "    error = angle_diff\n",
    "\n",
    "\n",
    "    kp = 0.2\n",
    "    ki= 0.000001\n",
    "    kd = 0.2\n",
    "    proportional_error = kp * error\n",
    "    integral += error * time\n",
    "    integral_error = ki * integral\n",
    "    derivative = (error - previous_error) / timestep\n",
    "    derivative_error = kd * derivative\n",
    "    control_signal = proportional_error + integral_error + derivative_error\n",
    "    control_signal = np.clip(control_signal, -0.1, 0.1)\n",
    "    previous_error = error\n",
    "\n",
    "    information = {'distance_euclid': distance_euclid, 'angle_diff': angle_diff,\n",
    "                   'proportional_error': proportional_error, 'integral_error': integral_error,\n",
    "                   'derivative_error': derivative_error,\n",
    "                   'arm_tip_pos': arm_tip_pos, 'ball_pos': ball_pos}\n",
    "    \n",
    "    return control_signal, integral, previous_error, error, information\n",
    "\n",
    "\n",
    "with mujoco.Renderer(model, height, width) as renderer:\n",
    "    frames = []\n",
    "    # Initialize PID controller variables\n",
    "    integral = 0\n",
    "    previous_error = 0\n",
    "\n",
    "\n",
    "    for i in range(num_frames):\n",
    "        time = i / fps\n",
    "       \n",
    "        control_signal, integral, previous_error, error, information = control_strategy(model, data, integral, previous_error, time)\n",
    "        data.ctrl[0] = control_signal\n",
    "        distance_euclid = information['distance_euclid']\n",
    "\n",
    "        # Step the simulation\n",
    "        mujoco.mj_step(model, data)\n",
    "\n",
    "        observed_var_dict['time'][i] = data.time\n",
    "        observed_var_dict['ctrl'][i] = data.ctrl[:]\n",
    "        observed_var_dict['qpos'][i] = data.qpos[:]\n",
    "        observed_var_dict['qvel'][i] = data.qvel[:]\n",
    "\n",
    "        # Update the scene and render\n",
    "        renderer.update_scene(data, camera='my_camera')\n",
    "        frame = renderer.render()\n",
    "        frame_bgr = cv2.cvtColor(frame, cv2.COLOR_RGB2BGR)\n",
    "\n",
    "\n",
    "        text_list = [\n",
    "            f'Time: {data.time:.2f}',\n",
    "            f'Control Signal: {control_signal:.2f}',\n",
    "            f'Error: {error:.2f}',\n",
    "            f'Distance Euclidean: {distance_euclid:.2f}',\n",
    "            f'Angle Diff: {information[\"angle_diff\"]:.2f}',\n",
    "            f'qvel: {data.qvel[0]:.2f}',\n",
    "            f'Arm Tip XYZ: {information[\"arm_tip_pos\"][0]:.2f} {information[\"arm_tip_pos\"][1]:.2f} {information[\"arm_tip_pos\"][2]:.2f}',\n",
    "            f'Ball XYZ: {information[\"ball_pos\"][0]:.2f} {information[\"ball_pos\"][1]:.2f} {information[\"ball_pos\"][2]:.2f}'\n",
    "        ]\n",
    "        \n",
    "        frames.append(add_text_frame(text_list, frame))"
   ]
  },
  {
   "cell_type": "code",
   "execution_count": 7,
   "metadata": {},
   "outputs": [],
   "source": [
    "# Display the rendered frames as a video\n",
    "# media.show_video(frames, fps=fps)"
   ]
  },
  {
   "cell_type": "code",
   "execution_count": null,
   "metadata": {},
   "outputs": [],
   "source": []
  },
  {
   "cell_type": "markdown",
   "metadata": {},
   "source": [
    "### 2. Use RL to learn the control strategy"
   ]
  },
  {
   "cell_type": "code",
   "execution_count": 1,
   "metadata": {},
   "outputs": [],
   "source": [
    "from stable_baselines3 import PPO\n",
    "from stable_baselines3.common.env_checker import check_env"
   ]
  },
  {
   "cell_type": "code",
   "execution_count": null,
   "metadata": {},
   "outputs": [
    {
     "name": "stdout",
     "output_type": "stream",
     "text": [
      "Loading existing model\n",
      "Wrapping the env with a `Monitor` wrapper\n",
      "Wrapping the env in a DummyVecEnv.\n",
      "Logging to ./ppo_logs/PPO_9\n"
     ]
    },
    {
     "name": "stdout",
     "output_type": "stream",
     "text": [
      "-----------------------------\n",
      "| time/              |      |\n",
      "|    fps             | 1273 |\n",
      "|    iterations      | 1    |\n",
      "|    time_elapsed    | 0    |\n",
      "|    total_timesteps | 256  |\n",
      "-----------------------------\n"
     ]
    }
   ],
   "source": [
    "import importlib\n",
    "import arm_env\n",
    "\n",
    "importlib.reload(arm_env)\n",
    "\n",
    "# Create the custom environment\n",
    "env = arm_env.ArmEnv(model_path='myrobot.xml')\n",
    "\n",
    "# Check the environment\n",
    "check_env(env)\n",
    "\n",
    "load_existing_model = True\n",
    "\n",
    "\n",
    "if load_existing_model:\n",
    "    print(\"Loading existing model\")\n",
    "    model = PPO.load(\"ppo_arm\", env=env)\n",
    "else:\n",
    "    print('Creating new model')\n",
    "    model = PPO(\n",
    "        \"MlpPolicy\", \n",
    "        env, \n",
    "        verbose=1, \n",
    "        tensorboard_log=\"./ppo_logs/\",\n",
    "        learning_rate=1e-4,  # Default is fine, but try tuning\n",
    "        n_steps=2**8,  # Collect more steps before updating policy\n",
    "        batch_size=64,  # Mini-batch size for training\n",
    "        n_epochs=10,  # More training passes per batch\n",
    "        gamma=0.999,  # Discount factor\n",
    "        gae_lambda=0.95,  # Smoother advantage estimation\n",
    "        clip_range=0.2,  # Clipping parameter\n",
    "        ent_coef=0.01,  # Encourages exploration\n",
    "        vf_coef=0.5,  # Importance of value function loss\n",
    "        max_grad_norm=0.5,  # Prevents exploding gradients\n",
    "        policy_kwargs=dict(net_arch=[32, 64, 32])  # Small but effective policy network\n",
    "    )\n",
    "\n",
    "reward_logger = arm_env.RewardLoggerCallback(env, movie_save_freq=int(1e6), model_save_freq=int(1e5), verbose=1)\n",
    "\n",
    "# Train the agent\n",
    "model.learn(total_timesteps=int(3e7), callback=reward_logger, tb_log_name=\"PPO\")\n",
    "\n",
    "\n",
    "# Save the trained model\n",
    "model.save(\"ppo_arm\")\n",
    "\n"
   ]
  },
  {
   "cell_type": "code",
   "execution_count": 27,
   "metadata": {},
   "outputs": [
    {
     "ename": "NameError",
     "evalue": "name 'model' is not defined",
     "output_type": "error",
     "traceback": [
      "\u001b[31m---------------------------------------------------------------------------\u001b[39m",
      "\u001b[31mNameError\u001b[39m                                 Traceback (most recent call last)",
      "\u001b[36mCell\u001b[39m\u001b[36m \u001b[39m\u001b[32mIn[27]\u001b[39m\u001b[32m, line 1\u001b[39m\n\u001b[32m----> \u001b[39m\u001b[32m1\u001b[39m \u001b[43mmodel\u001b[49m.save(\u001b[33m\"\u001b[39m\u001b[33mppo_arm\u001b[39m\u001b[33m\"\u001b[39m)\n",
      "\u001b[31mNameError\u001b[39m: name 'model' is not defined"
     ]
    }
   ],
   "source": [
    "model.save(\"ppo_arm\")"
   ]
  },
  {
   "cell_type": "code",
   "execution_count": 3,
   "metadata": {},
   "outputs": [
    {
     "data": {
      "text/plain": [
       "745"
      ]
     },
     "execution_count": 3,
     "metadata": {},
     "output_type": "execute_result"
    }
   ],
   "source": [
    "import gc\n",
    "\n",
    "\n",
    "del model\n",
    "del env\n",
    "del reward_logger\n",
    "gc.collect()"
   ]
  },
  {
   "cell_type": "code",
   "execution_count": null,
   "metadata": {},
   "outputs": [
    {
     "data": {
      "text/plain": [
       "0"
      ]
     },
     "execution_count": 11,
     "metadata": {},
     "output_type": "execute_result"
    }
   ],
   "source": []
  },
  {
   "cell_type": "code",
   "execution_count": null,
   "metadata": {},
   "outputs": [
    {
     "data": {
      "text/html": [
       "<table class=\"show_videos\" style=\"border-spacing:0px;\"><tr><td style=\"padding:1px;\"><video controls width=\"480\" height=\"640\" style=\"object-fit:cover;\" loop autoplay muted>\n",
       "      <source src=\"data:video/mp4;base64,AAAAIGZ0eXBpc29tAAACAGlzb21pc28yYXZjMW1wNDEAAAAIZnJlZQAAfIdtZGF0AAACfwYF//973EXpvebZSLeWLNgg2SPu73gyNjQgLSBjb3JlIDE2NCByMzIwNCAzNzM2OTdiIC0gSC4yNjQvTVBFRy00IEFWQyBjb2RlYyAtIENvcHlsZWZ0IDIwMDMtMjAyNSAtIGh0dHA6Ly93d3cudmlkZW9sYW4ub3JnL3gyNjQuaHRtbCAtIG9wdGlvbnM6IGNhYmFjPTEgcmVmPTMgZGVibG9jaz0xOjA6MCBhbmFseXNlPTB4MzoweDExMyBtZT1oZXggc3VibWU9NyBwc3k9MSBwc3lfcmQ9MS4wMDowLjAwIG1peGVkX3JlZj0xIG1lX3JhbmdlPTE2IGNocm9tYV9tZT0xIHRyZWxsaXM9MSA4eDhkY3Q9MSBjcW09MCBkZWFkem9uZT0yMSwxMSBmYXN0X3Bza2lwPTEgY2hyb21hX3FwX29mZnNldD0tMiB0aHJlYWRzPTkgbG9va2FoZWFkX3RocmVhZHM9MSBzbGljZWRfdGhyZWFkcz0wIG5yPTAgZGVjaW1hdGU9MSBpbnRlcmxhY2VkPTAgYmx1cmF5X2NvbXBhdD0wIGNvbnN0cmFpbmVkX2ludHJhPTAgYmZyYW1lcz0zIGJfcHlyYW1pZD0yIGJfYWRhcHQ9MSBiX2JpYXM9MCBkaXJlY3Q9MSB3ZWlnaHRiPTEgb3Blbl9nb3A9MCB3ZWlnaHRwPTIga2V5aW50PTI1MCBrZXlpbnRfbWluPTI1IHNjZW5lY3V0PTQwIGludHJhX3JlZnJlc2g9MCByYz1jcXAgbWJ0cmVlPTAgcXA9MjAgaXBfcmF0aW89MS40MCBwYl9yYXRpbz0xLjMwIGFxPTAAgAAAC9VliIQA//70oPgU0GJjysxWvdiImDlA4OycM4dgAAADAAA5lCB74DO7+s0NEta1O7Uto/OcJDjGddcjTmiwBYIoBGwFdI69aqs5nCwrXu8xmPH9RfDzbxD4oJSxf6lzmheC/djVJ/nUpoxNvfC/sg9tgTC3uXke3k+u6UVoyrYXi3zScrRZR/R8NeBhfp0xLWNMuft0+DiHEoMvd23AVRkrCZgfys2uObPB+CnlFb0FPhhQhp/E+/hRuvkDLih46Q/JdBchCcqQRaTIFyDZY0BNsGl4XrGSu8iIiHkwsLqIhQs4OmoGK+BeKkEZkdAARrDOeGlQp/sbDNwTWw12LMrKLmlxO0LwjG4XtoafgqPdIAHdoOPZZrr2paK3NZPx/I7F0iZxFCI1VdTcB5DeTpVvtbBNas3dnQl1GQEAxtE4Wl6NBBW3MbUno9K2quaQqZfiKbLEm/yIzdv1MmdrF1GstZUPa46PLKWprD+qnSjzCe549ob2ml/wmW7PFXptfQwBx1s4wliSltFg1woReuXcfn2icxPLK60NzoVS1YhI5e/WoIcG5ww+bLbotzw3L8jbNYObTR9fH5oJMad4rvnY/wAzUzfSO6iawPS54U3wXUAZhK2hjVaJySLWRZ1dtf9RtPIfRvBQMtbbDoEGQeGCY2NdJOUmsYtAKlXW2Y/2pUAcsHHoZ1P1Yfs5sJ1RHopODskeljj03ptcOu0tcjVNLntPGnJbuyUvpdQvAj2f9B8xgbWOCRQkabMdKMWJwntTi7pahhq94TOlSj4QFTbIAMBzbbCyiPcoouKgvnZZ8LuxgQqSlx2UIneFeOWT48ypVKvd/5XXHDb1IYky/Ye83P23e61ptfCM3Us5C/AnnFsdTmcNu5jPraltdh0iJ9ZBpgdd/yunwzo5hciAm5L1h3C73ZNiZgq/JGP6PpJxx5LP3SNy3W5o5xPHCAARHK0HApj8EGV9UxxydgoeZ9ThVnT2bXgVHGtkvow0bx4kEkxZzlDQw65guBU3tV2iJQTzxgZCausJDNcZzq4hkMLHqRXAc3eJKNWFFhxXlVh3Ixbm5PV8/KROYex6Za3wGB+uqEJoZwyF1Sq/vis2+RAzF8aMKdnidzxBfQGcVdFJsoPbjpTG0bzkWrnoaXwZNaAADwV/CD7FfhGOW4p/FhRj6nuk3jZp9stcZ1izZU9wbUQBRArR0/UfxkkpSnJ0mmOEY8ekS5Q3aggDBm/ovUME5Vd/ndG3wlnNRqx85gnulm4qGTKz4jr2VvP3FSYyQHXw3mgR56zqFIuUpGXnuwaGbGmyc595RzcFHMUuZZ7HtudSmbWfH5+k3D2TFN9fPXIu2ayVoI9yvrkWtf/Za5Mb0PLuRhyTMkVbd9eA6jyAOOwxqy6eDhtsBTDQkhkL60MmnZwZh3IRGAgH25vawgPIlMEOicRUAXJUaWtX6ccn4UQFShb3zRRyeePtPylMZQWBCzddOP2N/7xgy5vqxN+vow8ZVpOol1Zl+h5rcmOWlRaq/u3qQQgleOlob9sSYFp4stCPLCvqK8DYaocmnNdhFSjMhZ/akkEHCOHAwpCAhs6Zugp1+mFq7rYiiwyRJcd27W9RWEKiecdxpnrzy5RqGMPUXV/Ey8UvLIETESxZghxBPyNoE1GpU9Yl+YVT4/GZNt8AyHzkZusUFLK6K4FaW8HO7k5UdGM4sH+SdVRJw0uH2LMpeOCtlFeE3PrquLT5aCWBpUDLaQG/fygdv1RCjm2vMV/woNwb8S55e0V5SnjHJbYcmk4hG9vV5bNc8/jYCCgOV0wPenWlGBzRtvpVUXPv2mX8JN0tZKL2piURCG2AeF8+y6DTm+0bQsoHeqFI4z0q7matImCyvZK9zSDkkE5FlYTcZvU3b/5yCqunnMqOZ6qOqRHRleIGosYqLLy86bfXuA5VBqHo56cYj2yw0C3AyDJY1Q25b7m6kw3JflB/zGbV5Wr2RC6BOsOH6bdJb0JLOmf/QhZANtlj4NVEVazjYn/+GdZz03Sq26Yo65odAwdXP4zCCV93al5GwViU8T+PVUbNzfC7MpWpZvQKzUJKC3W3JMLcB43yj/au9cO7cI5tFZHpq3S+ZLDU1SQu5Y9qFJ52cdLZB2r7xcnG63lUOao7HodVM8IJ4uUFfgozYgZKjTX1fE5roCuX9MZfkhAm1jBgtA83fkYilnJF/+YNjrXIh6GMES+RxXGqIK00qA20FOjRSnS+oVT7yLanH/OaVpc4fqykrtforOqRCNVYxTQv1eBZiHj0tjkOY0eZQ0WvsLMi3JCa/sbb5qJkaMcYfPoPBWxUU9/VgZj4cPfWrR7IUiqScKWHQdi4kA2l7Xmvf2OAQOp7Oc0okc76Q0jgmtKRPezY/WtGXKljbKAq1CaZIitNxX9oASo++o9us8A/QixilIUBTJU2mHAW4zwrB02JDEf4i8m/z1YWL37SpPEDZoSfEoDgD2WVHfFQ/a93v/pcojt+EXyOquz8QLYkRE992z0VynogkTBmij/AZmaDPgn6CBWy6JfqFGIqOB5Da7K3CL4GV3w2E7qOTpKi52LOGb1voattK5E0dzHP2YfuPqWjBlXV7fPr91FsAQ0RyMAVrliUnIONWeSYA/YUVUgfkHBktLkthAdBItaE7JZJxHq7IZ7aMYGOE3+918+k9jETP6ozIkXy/uTRn53uDesz+7cdFwh6AIWuohPDmAVit/Pf5q8oUqJGQREd+kQEizQzwUL22UHPg0ke0wxpn/4r0H01gqjcZkWPDz7W/WcC5menmW1hDQHv0ihRg4sg9uNpgDtt16kZdKP4+ajIU2SgrkI/OsTN/676nWxDyWGcD4rkGqSolM1OcmRv6jTD2e1frGvRHdb4auCSiqlsf/xtd4Tx/LXDTa/8Iz+lXYxIH3tk/v+d+CtSWPH0v740Z3Ov+uQt5DCxTeQoBaKd1xGnBKoqOPnGG7MeQUfO9yjPmjf68GTiowI9yqHXXHVJKBIjeIR9gZkWBk2rXlJOlCCxFjPi/hpi8aahdg/UhcXzYJt4N02Y1KLMWxXG23tGqbi1QqMpGoedvfPaU66KVa43dcB6oFc46k7xBr90HeNbn/LuiK1oeN3MvtKJjLAg7nE2C7A4/9CjtsrC8HiGJc1n5FzBaxtrN/rw/2OccPxAtupRydyeVQNTI+LpcpYVQgY0O0A4a35gGmANuzIgXRDolUGQTjH29MILLw93rrT1KbVQdVlZ01Ep59CdZ3hGgW1DR00LC4ju16lZcbSbAEh5hRTliJu87Gt81s3BR83CAknsYdS+PA0Nkr0k8L8u9eiBbtaTfhO9Izi/J+6bIO7/lYpkdoje1zJHu8U+cZraHD0Cf6z5/P2QspsBJh+sol4fE2RVF2/3OWQa6/iwN9iJNJbtXfY/fCl4pJxSDO3jiRKF5xmb+bGmiPgwvtd06FcIf0KN4zD5cB4/Ggk6VfpCA5T4ik1GffuE7n5Y/FcVeMX41PnnF7mja2lN5DJbK3SFwN0yfJ2h287lrYa/xuGqd6uIaT4OGueXsdhYCFAhzuWhDm308xQu7vFvlpIpEbAjhA6DbSFTxIK2o43l8NVAc/xukmObQc1GvDCTRS610tj2KAyV/+izADOOdHl0zF7VzlKJq3Hd4dO0toa0Q9eCJTyVbCxsiJshQpZGVP6Lyy30Fw9ps8ZUQuuA+hjPtA6PSM1DWacKTiWwfOhqMEH6VPeIbdLfODJHG3n8TPFeV5qQb8Cx1FEBBRm8Lh9Q2t6toebLvXfXLgxDBve0y7338Ve0fQ4J2SZ83wNGoQ0TNKIeYu33xKXeUEkXSQafxTemO8WSuyuFJu1OG1A0MMdfGZvnsFcBT8iTlovbuCPwocPp6ysqGN91SxwSOkNVOehxWfZ9Ymty/1PY8j363J8EPnXvj/pcJEMU1+pBLWqqeSEkhMTFTuW767Hb0cfr2jF04ahXM9S0iPVsrKmhAvW45F45dFRSiqJQ7bXzUUKAcU8QuO9JsAAAAwAAAwAAAwAAAwAAAwAAAwAAAwCpgQAAAbpBmiRsf+RAntuh0wZn+9+FWEVKUIgeuZQGQ3R/jui83KZwAqzjgr9A+Jraqm9au3LZaL/Qcl/usMEOUSDz5zvi2a2z8lmhpvx2sWYsMhmXYuSS6l4xLjfmGXX+BWCzKJ0hcJ9Z/l94R3dva506/YlcaynCZ62zQgg+I2jgouke81hstCDhATvz0iMtcQf2MlDW9iMXTKxnyyU0PFPQX06puJX6nFFHKWOWFr8Fuv18XtMVwDKUtgZNDRSbGTpHlPpIng/7Ih4wzWFq0yOTa3Ds+BRjsNP6r7j5ikl2/qORYti4JpgAhm+S2QP9uSyZwujEXT/x0vAmhf1XiJtMcxiuqrIXOneo1Hm2WxtSgJftrjMvrPKDN1nRufZguRaNvgNjzC3OkJhv6MonwiCZpHDxxuzF1epwmmVPT/kDQPvkp+M81l7bsBhNmAuStqJ6a64N3o4kSfoQTCcDLoH7RW2p9FN/whmx+HfPdtozenj74dq57dbmSvDRTCmewtQpPnASHiDGejU9WAf+SDFimqyIID6SVJjEZ9F9Dn/geSSlCJuu4WacZ0JHE4N+cMgxoc+n2LUVWIVSEAF3AAABC0GeQnivEXzwEv3Z+ZqzbNkQt7ol4xnrr6rQp4vYUWqmlcYYsr/qiAaMZJmDyL6EG9ZgTxeT2C5E+yxt3hA7JML9F2uSfPf9crTNb66dFIlao0Ve70RvsmuWJib+Ov0Lo7jDb3pKBUaWibZTKmae5JRDW3/2WyM1AJ6oeOri8uzECZG1sII+Zlc9ed9IYCbJZ7FOlbZPDROHgW3VFE+i4Io+zQbcMOklHIl6GJTHleavISIQK7+mDEQeGx7gNuvWmwAPZdEXwNLZYLYTBE7WOGivtOGrKTFPEo4aFdpIE77H4nXU351i96kQ+f/eU0xbxfno2xsZZU7SfYlqhsoJBZbPXg0mWSlvgAAA/wAAAI8BnmF0Sf8T4yweyoQQ1h5jVAi+skpSiV9dUDb9bo+e4vIJwDCchd5sRjukJ89dmlKYFuS1QvSNqfAq2zIBgAfJeNzjPAjh5d4x0hP377Uo7Yk7ZhbgDCJjq/lYlOm5T24VRdRsWhHztuUrfK/cRlEjM+AzoepVsYUL6OtAlC+zgHlQtgG0AT+GwlfhAAANmAAAAJEBnmNqSf8QkLYsXwrCDdYLV+IT02uoZ6ZcvkDN7vR/3QIP58T5NlwB7wAYI1+A4c4xQ/nW+OpEe93KcAyCgXMolDZ7YBMzETerR8E6SPxlic6wTBHSH72lAbNdnWgcGDIE/SSpiEgttXiUKdLgIbSt57nz3xj0Bs7T2L6+zDSEnn6YG++OU0SdEipbmY2IAAHHAAABgUGaZkmoQWiZTBT/5EARucdJJFd+/oKQt5nJe6csdI/pojfR6VDKTgl6yKWhv6vuAlUOh2pjGUoiqedWnvlLQZHvQDBLzz6vDxwuiIZYd2D0G0Uz43QDSTfH7SnuHLuymmoIVrte07fxmzvKi69M01ALjedwtf9kJiJoZLfd9ekVLcYazJDu801ASGHXbRASDEUtk89TZBPqF5hkDzFSNsLRFh5STkeUHja+3io/UuQF7nbQF15H9AQyubf1OBSM7x/YRDTIW8dlk3kwy+0JDwnuf0nXjyS3dEQbXY07bmU6fNZEkV6HBrF9Y01bYaZjtfOrAS6a0izurDPvWHFoXIf2Q+0p3BT4Hrg//hSWnwrJCMa4ThuWVdq9duhx7k1PPqfiw+/QFq73cNBgXlBKfWpnfs9KraIY2EAk/pJxZzd5bM3U4hfcB129IEYLVy1vSk3F/gnPbPyZhIX3xdYX9SgJOYubAs20JtcIWPhEwmjd18jPJn9pXD50vryVIqIAHrEAAADAAZ6Fakn/B7W4CDLL8Hhc9IY8ij+vlBor52EZ5vRl1BMmiaMMJoScF6LZna8rIx6pBsmECX8I+Pu3ZGtyrIj6gZ90rTVb9bo/zYG2UobPY+IeocOB5mtcNhJa+avnD20kLd6ENoQpBf2QKyb/1cEKCOGSGyd7vOyJcU7SKIVC9WMtI9i0e5A/1brG2oua5MaSzJ5agQxIQRDx/Vqcunfy8l4+CSaDU6uArAl0iVJRfDQx+Ft9LUpi1MM8IvxYAKSBAAACPEGaiknhClJlMD/kQBHdc/p2zhoMLS00EiuqJjniAh5Vif0/wA3CoNEjb6XoyNVobhHBEoYAwqYTv6tC8csD1UGeXoMJ1T0HVe/NA2Am4bbySGvMurzi4WEGLyjimpJ+ncaJivOvmr/59nmEjLuavQox8Pw2xDmKm9GlPH+jyQHTcmVZc1squ2u8u09dNmCc0dNzaP3iwij1kjSOhsC4CK3kizKN5MWcv3LaADFWDIDi9o9qVikO4tNwPn9RdGy+kor7loielOFzZJAzwsHShyu/9fs6MAjw+APg/+yKbrxPOQopshP0pc9cEqfKAlAw00csJJfV5DDCqr3FtSFfkS7z35eMJDlMDvPJ7tE8cHtPuMAYfeE39yLweKGTsOSA0CoTICkkeDsY4fVLICQDMuylHNTRxW8WGMZceSeyg6h46ZX+CmiiAqYyV/mmNwalec19D9vainl3pJB9sCZjH9f6uxNQPbwpTgXOcIkvJUwEhbSiBwbnCSSwPdb3TUdu8zz23fvCZWvNQ78p66Xo3UzTR37NhklzKEgng+vBLXeJ72JWwFkNg3hj0UsoeqK9RnaiizEVPeQVBZUOR3t/uLRhgbNxGpgW9yd3+xawmNJS+lP7jNdq/EQZJG0fdPPYutE+VM3bcIpDzy8uCE5lMpYfWBNUw33aJ1CzoRs9/PadrPwEr/6DiBKSl6KRhQoEQoAYG5SZk7wc4p9TPAbwSiK9ht4z1BLKZH0JiSNUxvWHvwaDedobMCfLgAg5AAABBEGeqEU0TX8Gtf7YE7f2CPWy74NZdFH+bjjUDcaE88GtjCuztoyRlD3/PCoeKI29YWITryV1S8WCxYvviFbne+kHXmpXHRG8UMfBOnXzdxaHRuTzXBxJUX1VZpy09NW3iPMrK2dAweByuX98NPxCfJ1/pxr6RWABlONVQmw+lfuJviFobz7VYOZFlag9/EiGrB7teWirpcjr1nCDHWWsM9kT20I4k3wfkOmb4mFW0b5/aG7/+jqi/sIHhdoBOXES+b4nmXaBqslbJC1T1IiFfgOxEPlye+1fX81Td9uWhJvSxOSyzpXY3yb1MDDHtieCxn3O2cEj56h+SnFSFro6H+pYAAy4AAAA3gGex3RJ/wesrSzVRfie6fzty5oSd3VZbfEj4NG4EUX1PBpU3UsgNqSp5YwcabexbYmviuIGsutuR3Onw13TNWN9n82Hl0nPq604AcUtU5Y9KBwGauIJb2EeYculcYaw+ITeJctqVWehWPp7HJvhmz+4JRel7tPHPDcy7tGeKIeu8ppB2SfB+QcdHFqbnWeWD6RaknbZY4qDFQeaLq4N7y8F0mSlw6OgD2sprmAdGq1sB0ld+KllJFWo6Mx/z+vqb+qC1iBODAm3C5g/ab6RJ9QtcCCP23TGNk2P8YABJwAAALoBnslqSf8QkMLaB/2Fqm8hG9Huma9sQGQfiOPKTvcaqS8uWBgg+suPRsX7+hR1TNlH3qBuA6c6oUGdcCzEI0t0AnZbA9GBGDwEG4voPHY4zR0D2fhXEZJm1rmH/lL45dJiTrYLj/4AhVEr+YDPpOWUHeckd5C2C3Kj0jp0trFVB/DiyBefiBS5J+slqSj2I1LDdUV/P7pxfP/tTW10OwnA4Pf5RJWkFPQlATDXQlM9iWEy8pqzC4AADPkAAAH1QZrOSahBaJlMD//kQBGDTU3piEprJHwDR8ydLO155oLCgAN115HAy9aNcUcPP/fHDz6ja9Yvl6xLoeKC72PjYvS6G4rvcvdKfLfC3K6XmQJFCUDMrjWRuhwHe9pzaERjNXqBWnnlfIi5hQRDOFU/ozv1mBzHJeSOvsXVrlClKwCzfOc5h/4DYMNCC+1RdzCnMKrzxBOjXfBWW5JQP2vnIqwxaJFAxDynleOD4S4eejedCA2kL6hF87r5D7X54zPmHjb7n36TFu+SihWp3z6UmwU+tXrSVL2anexiCFxJMCTf/uun9FP2F5vq0EFPuaTXaobRvgYmp9blv46hDEe8K64mgBsB/lK9arDUodcfTcanLCjMG6pn2Zvv+YPFT/QsP2NHbad8hLb9KUCJ8l+v2KKPCtmIECnCB7lmEiS9jpBem3n/Ney9xolrnlX/gihbJmWkl5VLwWhZkL0bvgmqGjrOOp6USLi0tSUhfM30UUirQKYmYU0mS87XCJDQweSIWDHv4iynpP+dpvGM9Z05MAsR1FkziOsKBk2rhPDgBT4WjH7VVbFBsP4bEcrGtmWk+xxHF6o59DSDXE580BsIKX+Jrx8ZN4EzAjnWWGkyBvcM92Sv5FrcKhARmz72Xk+o9UO4bmneAWSZU/Zf/riTkM7UYAHhAAAA6UGe7EURLX8Gupjj+U2nfSbdJHOUdTZuSvFaQF3RAWHj/Fr7I9fkeScaPXZtmbEemGd7Wqqqx2wH8aOBrXsn8SD1vWhzGk8ChIEhRY5GesmTIW5SA05rdhkk0rXqOsbWmr//K0H1IkHRwia1SWZRaFc73MS78i2h4h6RKj6QojxYSegAC8QGQll1gZjkoZjpCfQyBD7X0GFcc6SblHBfBBR8G8UISd+GJKlygQM3jJLbFitun8HbE8mRMtEgbiWqNDnAekAqMJVmPAByYZ3r434HW17rIsViUsR28+TT5l2I/Z75fD3QABJwAAAAxwGfC3RJ/wfDSfroMIvxIVeoXy8dzDpQ88tG7AkBNUz+mFxNVvjAbr5uBOjYa/Xq+wk4NA+Nb247MTcKcPEf/7TWgaJKl+knUf+c6x0hz+QopXpBdMHTUIutmIBw/55X5ezEejQve+PU1ew5jtZlvgK5ES8lANVXBwB4hh4xj/xCG23Kp5JcY8S16WVSqSEJFtfuaP4ULa2J6QuVJQlNINWBhh8jOxg33UFxYzwJkW3yNlm8/T46oJItXR3wk2vd6M0zE/gAMaEAAADSAZ8Nakn/B7W4A+x7nE8vDeN+BiGPA6dmtbnXDokJ5k7y2u+nGThpuFo3A37aSBhaNNieoLGBkWo/bbUoigV7PiJ33wRll1mXAwoOwnc6W1H3iChkeR+IqPeyud9Y2t3tLZz06Ukgm7JyrGtOYTir7ehZFqBfMcx2QisFBW18aDa7A0L8U9bi5qrOqz952k+ZEqbRr659QWfgD6ctsxk+lHetLpA3GAEsYiBVNxcurDAH70AxNWNKwpHPukweLs+hnh/YMpJkRK78gjYwwKegAGBBAAABz0GbEkmoQWyZTA//5EARucgUCQjyfsA/Gcn8P+UNlz+o+k4nrHenOTjZ2sLTa14f96ZatpeLw2Ujamgyah9TD8paFoIuho+iUQImcW3ZKpQlNeSg35uB665hIEa80RCRhqcsa+TKlJ0bNGLLXmnRnRaLjHlGpCn1pwyqm63GSuWAB5KcmosYvgrLX1aZ/F3/LHFSQRQqMuva33x6RKUXUksyLWqZfa9VGfNYFFEuxkuV20QVHRKXGuHghROjQAxUpWDa/++iAZkzUj5sXaq/t0n7E96AedEh9T9M0Jyw1KwNfMs+cO2Ho7hBAAnlXvtgDdcloFiSuBacQyC7N/MBG86V70g7GTCUlcILbKUdSwfS+8QZXK+VKv0uuWoKu/JYdT0ZM6e6hOwdmDWHI4mQ2TiZ/FtvSZkU6A96fMihrM975VoURya6Yo1Ddf0BiKfQHwxU1FfIgkeVWw/rDAP3+wyHQVzgcYjZidXBftz+eLSqZTSIW2FbmDcKK3YSm8AcYEYXFjuJN0y7usvRZHy/b0/stffb5pWxDm6TtRi24H3JiV5bOAuo9NlS5sl2UvS6R/xrxv78Tr4vLCWrGtiiG5VnUSoNWz+uZLZu/bQAQsEAAADrQZ8wRRUtfw5/yEhpQJ2/tggE/AMJTZKP82tP/5RRsdBR3wL4SnwbrKXleoLwlXANGAYtxYgDpe8Y+9yUNg4Yjkfi9St4aWNjMo5rQYDheiw/XG7AuFoX9KjME10azcHX+PvWiJPBpAQrVOFaCAI0RAAlvM2UbL+VusLBwNVLx+Jql/6l68HqHeK5/Bvqn3HmmnYu7RM0YvugDUYn9AemvvUM8kBv4NZs8Jok2y4IuP87sigsFaPU4ssZv6V9Rx98ekdq8TV8OKAS38xSNCc/GnzoyhGwtDryxr8WrnLojpqSXW/cJLcCp+ABWwAAAL0Bn090Sf8Hw4EEZN6dl7uHz0S13zxlgaFUTl4+JrhvLPp2BfX+RmM6co/dEyBbwdsXFhMdxJXLsTZVTDIDX1zUKgUeNOZJn8hWPqR7AoZbZ7Mq5WmSV/kGGRY61wYYNhfg5c8rO2tFM45oT7JVNkn8X0JGE0ZtqkwzFOFRGuYEjy874SbUGzTN39YoV8IZkVGaXerpdRMMDi9SN2c2d9T3xRXtmsnSdqpVam/yinVJYM7bO60c+O8IW6AAN+AAAADNAZ9Rakn/B6+iWqAxERqVDR04JoSk0KXXHy4f/6vk7nXBHA2g39X6bu4Boni3983tGJoT0duUmOaGAnx76TeQLTNy8yxUV6Si5wNATkx9TQyZYW65Ztm0o/i6ivzrQ6gr06BgMABRaK8yfLf+5s63yllpyDk6MlcvkvZFvyxQcZ8lfFgSETjSRkotvshe3ymcVNwq+xiWLKfnwSbWwKmJchQHyuO6gBmTNxbFYPPHbqoeo3yk7zUJEak23LWXm5Mjbs+3VsKwypJpUAAOmQAAAkJBm1VJqEFsmUwP/+RAEd26A7iejoLD/lkdj5ibBmrXX4BQV7q+GVu4b3/yWMvZ/2ot3PbsRb5vgL3Xkc9uEkbpEjsF59vNGGATpjQUHXJGWHLBSHAjd0lGXHHOF9gh0seydbhbL2nhduVhM2eLzpyHje8lOQtGqXqzdQfu8M8Qbyg7xcCAAFqLxkRfruPnY8BhuIOWnzAEGV4NKP0F29IeQBMR7ezaNTpBbjPJowMRYnrTmCvuU1Mkk4QANdWwKYkiTI3ShZlfjKe1/RFGmyvdNqM0Uu8yAkfLBN4BUoulrOvYaauQE/JM9zJDzfl4B0ZHuQIGA/BG3h5mKCyv7qWeXnefUiuvHZ1z+MOaMgnSMh/wp294vIn0n0JTtvfq7l8A1XKHuz/wl4cmJ4c+KcbqU5wGIwZ8I6HbLtZtrh/TmimhYJoCb44hGLoh8rC48HAhqNjrD55HbVQOLN/NK08GYzIiMFSo6eGRMTVvozNRMHlVwwQ2+KgRYJerz939scvlcNYNuJ2+me0hGHqlsAEC9z/N3wWvTfgfHpkc4qivfxANSZXQs0DMYDcDQWn3pXzdLUcf1CExLboRi0flZ/M6wIekIRfbnckcaHvqq/SPNAw5FPiJEZF0JIr6A98FPN6/dz87dks9wyIlrAmJ/ivaKt0n5Bt6pgB4QrVPacChs03ZaMnCFjh0DconbsUVGWHK2fF7S5UvUlcOjh35kPxNGY+KrZ/oXdFCRHoPtBQvmgFomPKKA/s3oKXKEgyM9AA9IAAAAQ5Bn3NFFS1/DmlABPf0QTn/FUVq7pWq28QXly7czjuoWYG1YCMoTgBy+DGkBq/sE1V58OBt4ViYsF94AzqhuRieiauQFhXxdvO5Qxi/B9h4O1+me/t5raB2+Goq35o0c6Mg/R9+gMTR0rFg94VEKfJO6Xh9Qz7IjjPZm1QUGJ1IM/IkjxTyslG62wuZWKuA21ofsWd+dZyrVicx9kYYwa54ZPoSLsL7mKkxN0yPtcTDSe8v5mdoHP9LGE2JrJTplvPHxqtizWZRhu/CrczIk9gtWkzZSrEGpC4+tUpav+/2pB4Zs04ZBBEipwwtcwdD89wGxv+JHFfcv0kmTwbfv6d4+iyCTzUzO48ba6AAAQsAAADXAZ+Uakn/B7tWulURBDp2fQ0nJpusGaVXAGc6OYUSTmdvWlnU7agD5oYhF0jNO9kwxS7449hExASt/iJ58ZcRJ2QrPfU7zUZPleTfmFFm0sfzOU6Aipla43Ktmlw8W8YSItVuijbYjTth85YbsewAWgbgWV6dCt1Cy1+1T0iiVdoo0N+rVQyMlDFC8u+t1xSecoSQdiQEB4X9zzflAJk5ak2ER3hU7pzvxGuBLcnfI0Q3vk7hWERX7hV4/UdrlKPLXHrJ4JhpcEw1azVcmSLGLXG5eWgALuEAAAKmQZuZSahBbJlMD//kQBHGQGiOiPw/XFJne9/VT+2YxFfOZJDDrzlAyuDKtsmDfcPpZPFvR//Y5Kh+QGpGsbSLAOxxcqN9s6zR5VxG8C7bwHd9iW2A8zzz8beR3D4xbES60iv0G6LBylIz0W6Z0OUPyI91aen75wMq7cvRmwtQt5jgQBLeMeTseEI2uwe1bkd4rNmHYIrFZzUn3/CrTmVZpP+SuZ71yPH6LI1hjG4E1Br3zF9XgaFz+lAw02mhTJS96gEJcJMTtyE3ebksuh7nMv/7hb0TqvM1ihnb2qqIOaN8i0fuJBLwo0rrY5+b/fsuGtkCmgEdf/Jp7GoVmneWIQVe3FnF59/Mab2wZ+349prWID2gelWFcYlTduVCP21e2seUlHTV5PLxAWrr3ms2N5FFylZqIcKxZHtnu1wRUJ7eUtpjRslDUsOZif9WNsBS05AMg41tI6LYgmeN9hWVnM9YfGnCuvAYEVVL0aQ+Pwvgixr0UaabKbbi3DCYb0m2vRDo4ZzvDosZHoozPUXon6xCqSpVzBmuhQnaIGf0pSQ7RL/BqbTJBk+XgE9/h49NZZkOVbz1IQG8dW5cH4Jks/vzhiBd/lSEf9SR18Nu9HU5HSuomHxqSfVnnNyVbK5xxlgOZ+CJtvGLLYIJLAP58J4coe/1CRjF81FK4thFHc8pBwqg3ONMSduvxnvxtqLAvkJTYNohhU7n8SRNrP5LSEyQjL1bFe6cKyP6hvno/y3W+/H+4HKxmUSCgWm5Ilu59CMpx9PnsYTdHOslNmnL4u9/q/EnS9FNW1lzH9Nj2ETMxkg/znhQFbWET+n1xyGtrDsm2Xt8NCDMVpQ5U6kBE2ZPN/dqlivQcehg8qv3afWbSL3VSA42xtDmKiwRosTd8enwAFbAAAABHEGft0UVLX8OeNpbSCNZq/qgD3KiPvmSGUNPmsy83HRGYk3yisyhKyHYb6wbXcr3ARO93ilerSvTLLF13HT0H1rRL7+3v0RdgUXOuY4PWniI9O4PaNTGmyscxMesdxzgvgDVC+FKrUU0iCdXZMXuHug8TD8jKyRpOg5tS34waejxNZkE8Ya0xP2swZZ9VaR+9XzN7MJ4IDBgbHVJ7RsyivfqCSVLJzXz80PugF7nGN7gdgMOvAt2sj0F4Zou8sRAFwiKrZJJLkxzXQdbR9233qxC4dwYJj4sYGbx0spCwz9+koE4Y+bVZ+ZL//yLDyZi+dONHV/sj9dCEIFhf8oBeXpHoL0URIeDIvavrpN/9AifGtJgx4LmU76NAAEPAAAArAGf1nRJ/we3lc6gGt1kA9oPxveU+SE/D24+YGg/2Bp/QKDBhsCwwc+d2LTBs8UWeTagtMcr4CKWLtedRg1yRiEQ/J8nNEZJbTApsyG+OIqDoOcCWqqw4foPwth/e1JBuzMIQ8FerwUbY5bCmnd93vtdA4gemYaj+h+YIf9c8iNHq7RBV/n7YI2ddYC7NI/pzkZC/igBNysXZzpahi+Dkq+9rIiQwiQG0AAAXcEAAAD8AZ/Yakn/B7feM9QXOJ7qIKQc8ADNHZ8InnkiMR5pUcYa3F/SblwjBpquQJ1pmmbcsqBraFzVTrt0IFFHmY8th01BL1e2gzkjdGJAA3KN4O/9igdRcyzMJL4Ary+8fV4bu0Dm5mz08Abs7gdRnJ5W/rZHRy0UkexWrkRscBycoEemC/paMygOxyAyAZIVBK0zP8qrLTACco+TUGpTEW/IFAlyaBpVhO3X2n0wTL3KFvN1txzel5XHxJIjfOsG8Kg8EySVOJBtAgTFJyeOBnkBV9QCUWCNjHUyQKnhv5timtMC7co+IJGPJrnQJwz0Wle9Yq/YajqsSC7qAAFTAAADBUGb3UmoQWyZTA//5EARgsQ81T1+J1EMLYYPmE/GB2J76rI8x1vqiZlXnyK6KvmLRrRMnyM8XEvX6RM00SMxk7+RgcioiyRT/Ennkf3Ff4G4wz5ApCBFk5Yb78ISq84Vz/4IMhITWd4x85Lxhlu1R4QbOJ4hD6sJDJpyLqf19sTb/udw9khJFjTKvRwBcX0r+Paw9jzzWJwPJkEtCl9vbeO4tSPsbJg3kY5yyihxIRbAC1bgleqdySwqQe6XLkEjGwAa4esZNz10X0ifdpQtXQBBmg5hHVDZqEFMGn9raoF/u8TREHqaif7E0Ur4BRb41SQsq8HW81hDwvxhmEUXvL6oWEcjZCaX5GQc/HrvOAzafKS7BwC+vZz2Nt7MkyIJqp4Clu1EYNMsYbwvZEwSMAncJcp6VgML+mvRX5pRJ9zoFIgKYoiFQrwOFJnTqNCfjgGEv6kTbQjSVnxg2PrSouw1RefyfJkmI+QGk8W06nm3uj6ntI62CFcHSRxzcAmOnPu4xBTsjZm7H7syy3y5qwWJbsHJamLLPfrtLX2FNmx0D639Q0Cr0YGdZ5OMUC44JQp2IpMqoqyjKchKROQm6rcNR3IOYet3YN7teys93SW/WMKpRGjzDxxAjiU4/eoCApr+cMPadPVSQxerzN7eAbcxwNFcX1haXlo/MKUPyYU/zi2r+/oQVD+3D6wPp9pk099Fa2EYn1GYgYZ06xA2t5VAC7SSIOrT03Psl2udTj+54KbfGBTdX4S0IFYFb13oILqfzYhtcklpVy2ABwZoKTIpx3eifuGWE4AbXM2LKqUMoY7l+G9r9yW9WvGZuJoGSY3wbREE2IRAiogHI3+A2bDxefqh91Bj/dedRcKOQg2DJZii/dFPIqSOOvl0ebHqXQPbrf8sSh3AfsyKscCLhyzpruPv2tsudvArOFKtIfxMwXrFp08UYn8a+rzthKxF42fwVy/Wx3Cv4CHBvIY1prFtknLCRn6fvmr5jDE1Qad4QjLRqFw9H1NtCNa3eZIX5MnvAAVtAAABUkGf+0UVLX8OPAFzpWt7mKUX9w5zcdwqG8aCnob2LEYFOikiy8Uw8xZSd89JVtDlcLd5oLK1OD5GnXqbO3r6RoDHmeaSxnRxR2nV6X0TLew8kv1YxX1NT32WBFftItSDldDiHTTSDuFULj0g1VJ6B3WTaT42RiLI8AAHLxS7dR3vcoY1PdpR9tabtu8rJOFqLPC0FW+xMK4VyfD5/d2f7B1XpfOULZrA6Z1VR7p0UIUcOk4tQ+PNlr07+unKkBmPUbQZOGSFUFmdENrQtXxFm1R60eYc7pfUevVPPPekWMqvAHuK8vF8zbYavRDySwPPSZn/IkoL2VbW4Geh1MKCL2JXy/9gMMxlDwvg26Zm9IcmJc9yw+0HnNuH+E5VV4fdBGzS7j4vEmzTdddGjnkvgj2Z7PIOt9V9hXViAPfjItXl7onNB5QEzCjJsDyahSa8AAqoAAAA4wGeGnRJ/xCLHXjQkjtYg9YTHkrbWfLvjP/+j2AF7baBMNkj2d+yKfT57GqPJfCOMmCGOVsKpF0GKCuXlNDbo+o6rbfY2y8N4aqTGSiNGyxmAi3quX7xP2cPVQEqpU/6+pYHXHq2Ur6dOavQl1WA7oOYZo+TVe6ZCfXWAANRkOq12Q6Vj9GFLECghjhrlQFzXjUNkxOLpxpA8ImntK7mGeVMnCfepvRsuora/SrFw1ImNu0j5EQiisukk185erzG+4w1709w+Y+hTd5ydYnafDeFwvCX+tiLMX0IPoiG5dWAAFBBAAAAvwGeHGpJ/xCh6yFj7HucOIDMj0vQJOkZK6tG7CXKRinjZQfvQN2hbY+mPQtQkpoe/Gbdr63pb9qp5gDH05JWddLGCfK8xD4ExAy0WXhqUo0oFSXqnz63nOEvbgV4h9r+Auslgcu4Ojn4OBlg2Y6Ao5h7AdoxhrX9/Wm+DEmeYyQYInjNZ+io3aHuVfoNKhV6FIaUpM9wThLhkDSOguEDIBgG2WvXMhMsexgf8AlzLEkjKfbJF8If5fkaJh7AACThAAACH0GaAUmoQWyZTA//5EBS5NKsXxc4j+DyLcq5DKo06mk0Dx4SqCdI8r4pk0VEvFSlyJNN93qNT5qX6QQi3TCqhigiJAxDRrt8elki0XnZrlMHU0uB79T6G08gyl84enpMmlYy8eo6Murw55stRor0UyrjxDEQNYDdCz8S5KcDymJgOE7YoeFdwZHu2bBEQq3E76GHb4KkYaOh2BvjHy+jZZNZCc6f3iROXD4/bzQ7MbrnsBTh4MzJyt8CGI9krQFwygqBc/41GP/HXlQs1U2JkRnh23yiTwETvRwxu9WdHI5y76UA0sSw0z2HqBgPu4phHTwHurQEUICyPriYE2lL/bU1q2/CSbnmc4/tKtLGct3izhnzwId8Wi2s2EEqgxjR+ePdVQgNnIk7xzpZO/Q4qGIWxazoRJx0H2nf+BVa7LNDeI/tS+X9pFTaQSaoClNpzxk/yFwstcT+OBdnWSwa6LpiVeJoC4qloDmjnD1CWCF9qZd6sEFE94qo9wUmOKHKHrRVP2ic4/inhBKgW+i1aBMr1FSsyXfwbqvLEA3MFSZ35gp7TMEq5fOy4/1pohR7ilSN31D1hESzzPwwD/qwNefNDFi32ZfCxz+yHj03wD+40xbcIP2SMm+4z+nOEn2e/HXVaU/RsqI/dr63KU3/fHP+wLYM6MLU24Jp7sYJkIk8jqO7EwxrWJmm0dO8mV55VeeeGnFnSsi5znA8ygAMWAAAASBBnj9FFS1/Dn3dSALmt/huPI1Yk+or+F2sZ0su1oyy3NN/Qi3UGN7A1XDXFAZAa3Zqh55H8ISxVtL15Km+C5ZoLGsL/XtfIr2OHqqw79xmLzDl4DmaVEt8o3zBbfTQyZ4PSADg8nHQmUE66bFwNN39jImfNC/xiMVmrHV4aiHHYWq14x+2H6L5r87BNUFPw/WU3jPXR3K9HGpwNCUrfa+k1GlMSBoBP9FxxhBJ0P+h9RCt64iJE88Z5NFZ82h2RW+s7EHDSZ1t7o9sGgcOs28fF5lXg6mjR28CuZXPQpyrU3w7xJjOqYvTUwafGXOtZGv1Oj+pbjkca0slVOyeJ6/+CIrC5KADJLh6wfUvBVMC2XxRLi7eYPJo7H6hDQgAFlAAAADOAZ5edEn/EIsySBel/QTTVf/VugaOtCL3kplerIm3hNvK/umB1AnbSG/sjgKTqVHpZVEHVpiXVSCHZ8xsR6ntHApibzT3G6aHEYYgaHtA28X62lDA5YA86AlLiR7rsuPxZY5Rqe3a42/YARIQTWrLAgmqXSkfGAHwYn5GMCVxtxeH+8IWQWlRtVA8edYL9wixOPLrnHOs0Q/253+V4yqMQCQ03KEYhqyVXtsPUWdDeF2VRfA/+XiRO8bOXSntCWA65+2fCl2OrKvinYAAAysAAAC0AZ5Aakn/B8lm07j4RfhR0mk6lWCr+MIgLvmjGAGFWugC+yWJIu1U516mHuvlhvgxvLLKt8nEpBsCjHmswSHBAX4pURPpT8bYZDGUwPzZci4FW9Z+0BKklIPTEm8tUjKm/fM/d968RGhaS/8dkoIuGPhn105WeFWzmHXF8MmJayiQu37XhZHekcQM1A81N5GDqU4UDQnutsLLXXysunInHcrrLZPV8J262SfzMN1EqwEAAGFAAAACnkGaRUmoQWyZTA//5EAR3YjpXtVPkd/FNUjkiHMY/yjr8UuKYi2VUpwpZJ70FNbSFFxwX3660Ay1xnWjGC9dX2wVBQcxlJ79zREIDEqH30Bo8kWlcyUWUm5uXBDVhz0yVS2CSVHfoXWgmMmRGJepJ8aBXXAbw38EH49awTFqpN9b1X8qbxMX/gLkfsCoQjUs2QqjXnnLSdWgcNLYKnzTmk4fcQe4fdOmx82oBbFtD98/yNOoIM9TAAmqoGPlUdWVs2KtGTCmZnjzqGHTo1+85G/FuV9lIHVaNHfiWDJDzezVBpCg72Eu8vXnUZ8hkFAIgvE9MedAwHrHkS2AlxV6/Y1iWIlYd0wSLc2KLfjOVAQD2Kp8Kc3fvLBtxjUx7irtOBCH8aGX0bsfpZ6N63RZUPDeJI084vxRzJ+g1C6wYpLd22n+s7Hdz3YPsljGH7grFhPFS2cSP9nMS+XIZ6woDfeatZCqA6TPzssWKJZdhAs8TYuaRHhMM4uVxDzye/NBD3Nin4a3h91tfC7eawrQaYoLaTgdA3FaCzV9s0Hjn/QjMGypyUVajigPr/BvGMsX3Tl8AKlCPJiRptWNgNn1cUioFfKtwtbb7WrSXha861B3/PpGTXJ15xzdoDuUr6S/YJSyJIQAtfeHs31ZZGj/5k7ha7fPngBYhHmYnA7LeHj5Wcqq6XyYS2jk3MxWkWEtL4+8gNnlZyz5RCQ8/XDnHmemjlqwRu/XrlvkWahIW8MCV/EZDhivrAZd6WWqmb7yTe42v7kiHiykz2aCE4nOCWPZXKXIOpS3U7mk2wSy1AzkSufLRXS35vjLboXOer9HHxWPqo2enHvr7lMJwtJ8Sm4l9L7CfftR3QZCLvKoUB9Mij9xEMZtJpyRLwoAEzEAAAEzQZ5jRRUtfwa1/tgTt/ifkK0hUqlUqaczKX2Efum1ovObGXdBE7fNk7hUBqh+B/bjx2z2CeyQJXi5zJxlYawMbxxKsDRqLl6wDOvUdyH8hmMO7YnEmvSzfhxGUpzX2u7nJ0KjFbczlYO0dbrwKNm62NBS1kCsvq4yJNisGZ01TPaqPeYkExJcXwYjoa7KHK11RTPFDX+nlJo9S8yJAXW0MV5mvuchmJDku8w0GoWWHLF6FXi7xlWatmf3IE4NB6C7LB7U/+6vqVTI1HDULiGMI9Yib0YsJqnMSLMc5LPUcdfe8OQU9PMow5lxnebXL1by/2ZLwBG5sR+tVXLf/n3xdOfNmmb6IKh5aiIWCbphID2uSWv6oNCfyvLdMLP8NJ24az1L9uLwlFfHFqoZvbOEGgAh4AAAAK0BnoJ0Sf8QpmPkyiDDOx0jynyDRUs+6QceAP/mM/9mT7dZ2b/BI/QB91fg3kxx+1D+1ypuyC3r3q0l5Z/F6wmj8ueLrRUSgA63xnsh3w9C/szOIhtW6BPeI5A9ZnnPGbsTIC3X9W79/bCz4O8F5kq+UsfVbxbsB8xzICvQ8xqmfkAKXu0RoYoxouOa9ET/Y3mLAM2pxJRe8XNMwtZ/QH73zXWKo8vPNDBBoAAEDQAAAI4BnoRqSf8QkMr/bRRsz/G0fBglF5J3z73f9OWE1mgVG7gf5xk4llW/LJtE5fUfYuwT1ccuxWcwveMz5Yr0QzqW+A0Sv2n8xL3g4tQfuOwHoyugHmCl5xksyHihobs5HtXd4GmIeF6SHvbFCld0g7Kv3vNfbCNDTYtE9UFne4ch0pbhOwM4S+OFaXYAAKCBAAACMUGaiUmoQWyZTA//5EARg0pQrPoPn/v+4/8UEOV+/w+mGiwBAutFKsTmRBmcUSyukJd0Z3XopB7z2oJu0eHHwFIhGkpMJVtWWspCusSmyDyQNxw1OK8I3N2RVwZADFSHYYWGy+bMFV7sAFVCJbni3JA582gdp2FEaj1FxuC0TwbsrS5O2gOaEQixaN5hbe9lKBywWz8a7mWVC62g8oFYGGnixA/6hDzEdT939CGu8XFreMKx+uEbPMc0aIj8CO5oSli5/09NxZnydglu4zLsJyJy+iXSdOUWGJ9QyV/djGp8cTJkU8FNUPjQHs68m38teKyfX52sT3Xs5CXMdFucsBqtpJt7fsEcBkUZTDO6DNzjFvkuoFN3xnYs84FbWCI43mTzby36AgrnTfSFTV9PjNMGyDnSBuzbN0Q7uzJvaUR25NB5hZfTXJmOQUeBfgtqVdYYuzjdxadNV2yb3xXVi9uG1PtJ+ZKcsp2xD+Dn1YxCHsx3NAio8RwYFnISECgtg1kw2UBqetO7A8MOw8/gjONLofC1QPe9UmSwzit2bbQLaT2UugZRPF04riYzVbbSwdTF3kRmhzHqbaeTLoiz4+k8tA+FmvnvCDK/SYaRyhgPziNOhgJKT0kKjlNEC5nhU5/H4bUvpmxlqSSV5Faxo+tLddfQkYHbDmbaf+iYQEpUvHNO79Kx2TrdiBD4aJdq+oTcwwYYR1RnRwj2EFdht9g7soUjvAqcT6l6pRND6AAdUQAAAQdBnqdFFS1/Bq96QuvFxb4j7NJJJVV23FNeP6AzbpcLbs6K1tVhAG/WhnlrRHqn8cHvRysrlDxHfiIWBX48zU6Cw3DCSDm4PzuY9mhY49HW0DqJAiwfGrXQw+kiqhGKpXvqi1wq1wpFub7L9kG7BhjhstRWLt1fU0NAHvxFpH/wrrT71F3JZcVLO+E6csWMGpXFMw3UL7YEUpsbOLv11+bX9CDj9lsxvrDbpqX2Vyypp4ZcT4ellXn2dQ2iwOgfElnC6SC2MivKab+Bf6mAl0QzD0quNpFWyWQzjPwa6UTgyXBs7E4rQu+aOgkt0CTdD5gQV0/eO55iKX2usyh83NnPX8OfJmABZQAAALwBnsZ0Sf8Ht7IQZYajz0RaDif018oOdfOw84/p4vqNiYvdwGtCpeGiJjVq9DW56pBwFWCYkc6uIZFVKWykO+ioxFx5x/1/tRYinhwMjor4KZck0cTbqOb2Wkfwx/XyM5aFAvNxtDx92SWJqjq2fxmSeWPtRFrKCtXS9dz701/J+SMwyYl62TGCGCp+5oxum2zqX1+svzb4rVknHaVSlpuC1OAqtxvIHrc7/vzRaTFlSdEGfYm5bpTwAADHgAAAAKQBnshqSf8Huy90PCtPTssVU1TJyujZ7Dii8Zqkn4JuzOun9o/d9ob495WyBT9Furznqbjqb8j1RPodYuluK4Fa9sFTH4qK3bZ8N4Q+OeHs8shGSaolE6rjMNUh7ePEdlhjce02qYN+MSXEc1U+Ff96/ecuHLbfiYZP/TFpcgOEy25zDcqP6IXKmcdRojhkrntZJa/xXvvHEhuWYJJBrKEPxAABiwAAAZRBms1JqEFsmUwP/+RAEbnIFAaS/9jq/tFuhhMHMDyjYNG7J/YtfxDLTQVo8STn2Gb/hWQWlrImaazvhxo7XbnOjalcBnmN2JkeU2G1iZDzRaD5TcTjT4UKwAtDAjNCqCdz/HZRqpWEk9fu5WJi75/hjui7r1rDTfaRUB2OHNTyg7MVLPGSRl3ekLhgVgAMM56FpZx8VAhik9xWTNp7MnNJzRJbg2mD3AL2VZ0bmftrE9ew4SG0MIDGo1Kt7D2Cmm4xn6IDH1K+TvM62+Wnm0XFm1+XnudEvDmZZxRHj5hGRXFlKWBcl7ml5r2+Jzu1EMMsyrlMiMw2f0Oqv/wffJtgWpUQQsxtWTd/uCHVzGkmS2iP7T2pxMenjvr5p+YLUdbm+5A3D1cZmD2HZcxmpEKYJwgS3m7EEfnDPNkd74+IJ1OVeQqqgKs5g97j+nKv6wNTlyBQ+31RBeoXWb81Gvr9EPM+ZnqPf2iZauOFOboAJF8g07aPyfLnK/gCpuEOmT7vhTFgiDSAEd1ndWBTp20MpwAGhQAAAI9BnutFFS1/DjwBni1K7W/Dcfdb/zsKUEywp3rnRtvSUW8TwBRuMb81RhXPx/6WusPuObcvEwJA8rOp0MMMeNooYjzGfbg4WmUA5AyDezsWLWXhbAlAjDbF1zxCbUJJDyIYMdpxyVLt8Hj3a9navi4/lL5tXnacJzTB2J80emOCsp/dtnA3GP3TiMRVYAA+YAAAAJgBnwp0Sf8HwYsEZZOLWfkyyLxVIItwa+g9Mk+R8oT8cRXtdgpNJ6W7chdDaF7+KMyfv39JAYsPBVr1sKwQNAX9O7eDl6s6mDphxt6r/2Hdc2gSknhGs7NQokCWCW4JejkbB2FU7QTpXl1u8lIR0teRexBqFb1AbzSzXE1t9kS8QgrVr9AJYi5R2nI4/UwFSMziogAAAwBiwAAAAI8BnwxqSf8HtbgILF5m6wx8z8kF+6Sjd5nJvofwXg4nTwLzpxaM8INuEHbm+n1bHmdakl22EYpMTZYqUCJkODaukhopCiT79jgjs3hkum/abwTj/reEhZMABb/Mi4yDTOkmDeNc39sWE2k6CVO48L2ezTJYxPNnGOs5dH0/2DZ/KRBxfvwr3sMUAhbxAAAdMQAAAclBmxFJqEFsmUwP/+RAEYL3bvKhhNrgWI/Xn//jYm+Pwi1fjCsG2cHU1hiQBESZfiqrqqImyNI1OMpCtJw3qXKLw8P3WKdN1Cs7lt+0KjLOqRBq9FoEOOUb2/26xlxoawt7y/TAz6OivP1ohpH95tjLgImbbVbS07aSHUhzy8bStTr1dIjWpcBxrYlbKTO6OtjSbRVGtY9M7BRV3iLJWd20Tz1Ja6l1YRv9OiukKt4GamI8+7QSxcD8kkzcjvEwo4+S5tn1OZtXywQKrR3S7fnqkx3XWery55PvIU48PeyQ7f/Oa/b/wdmcNX9tJ2WI7gP+VzXSXZ5EJJyN3wiwggj6Vt8+pfBzM8POzNQT627ezrWbg8iuFXLnxzQApkZ4yb9v8UMlVNGCsXS0PD7cOnggWxSqSX+hS0WUvWpysKW22YuR/d1I0adwf5+EvRD+ubBZPjZiOoNM+hPCWB8qsBo5eQSUXziOFIyd2lqAjWXpQvmfE2YEZQ9TY1w5zVHTghr1oIJ3sW62VFHxlRIlDODPQKcptBj8ht1knEWgOr9tOp9FbGP4ylz4N9DpjtSD4W1ByqOcHUdfdBIXUetHv1h5YK7BltQSwAO7AAAAkkGfL0UVLX8Gtf5ebZOf8PFtfl59SVOx+HKjWM/rW0mw0rmQrWxMVPtXUf8xTD+zOvsoEN6VhfGWDkP9Q4TtqctVIDcBJUydQkHHkhQDh8TgEiyD3Od2Ea0p5u89W8ancxeissKZpAYCDFdGu5U9zPVFdLFD9TDqD4t21Lp8ovJuTCGS62cjeQjrvlcw/0AAAEPBAAAAigGfTnRJ/we3sgfY9ziZ7VIcNUjTmSxAXfOcMK5MozBoNlQl3BjBgjowOByTTIGFo2I3SwsYGdHD91btAx48J1FncoVRX3lKy/Sa2Fd9qvJSKujk+24xqJJAX/lrqrH45y0ymWWC06MWlrKD3d2cYzKpF/SIwF9ZDs8s+sXYXsJoH6qnBuEGAAA8YAAAAIIBn1BqSf8Hy5QQj48zveEmAun5pAPFypfLA+j1IT7HduBwDX6HAzn0Dc7/grjU0UM+/yphwUntUkYr2B3ihe5vHtNd8IRvucX+Cx0C0zTRlZE5XNqNI9QGfP47gqFj6wF6IpMA9G2glDNnGSNMBGpR6vsSaS7AsV+reMdjokAAANmAAAABcEGbVUmoQWyZTA//5EARucgTbwb/1dyHNKwcPyUH18aw0CIpo1ExyO8eh+WyWYSPzeh1PUurxr1wqvKFtbs9d3hYRzhPJV/mtTBs6K0ojozDip42X2O7yTNWzSeEx86BQXiA/IQXJ79t/A3/TQkVdGkj5tpyZEn7QIjKW0O0Y3JeBNHHQxwW9y31ig1oboG3Ccf92e0xg5tRvYhX6iD7cCHYRmuY0J2TGi96q7Z3yVscd1Hd5ZEsW1IaBr1v8kg0QxTbhn7AA5Qi8C86Hh9VuCLvU7Pnpzng0K+ntWHpXq5vcog9jpGcFo7iGthKD8aDJKskb1x7gFB33F+Vphx0sn9iJuvMznsW2KIfvmQiNZAXvcyWhNqUhAkth7oWxUNCsNehPLWjdxz9PvCA02KyYQrobrJyC5C6YeREE2JT46uiooG9Bre4bZ7p++7Q3EXyo8yWmwPEZpWUi9txWpeMT2wSkkES92/AvQbFMBgnAA+ZAAAAu0Gfc0UVLX8Gr8uFir80q+PNJ1knq4iI84u6cCAFCfAcY7L0nBb9ttFdW27Mc/vzukU31v04Y8x4c+DLs0IrR8woQovFFKvz9kxOZCA3vFluua2a7AqyBNLFxgMq22CkQIOKFuMI9X5H78ovCBREKhgkmaLsumwRI36ehy8P0qcSQvCHVQv8+fXR5dwPJn0h2O5ClAaIG/ssFp38xdmOt/D/5au+ueLE1kZfDGiAPMIdDN3ddDnqdQAA44AAAACVAZ+SdEn/B8aw4yUT9LYBME8lJk69MR8+Xjv51xaViOTByhDibi3UrrzZCOqNtcBFkJ8dJf0s7NTVbOl5NHErNxxYHCy2csKeZ7LXwMeMfIMSEYfZN0xLMaQH+NEyxnKy8aLQp5voaCHyzMSJU/Fsr0Ei/Fdc4yAFF7dlDdQ6FceM2XEKWY5Wx/UizJ2uxacAAAMABRQAAACLAZ+Uakn/B7feSb07R8W0Hz9NL/UBYAZDZVWCOuviQkkR+9xCMc65hFSAnGKjGHilk7fLVZ4J9woEA7V1A7WydCCkyRNHr6EkBvIempGP2n4/2DRSQdLkF5Z0ANGx1LyhK9OQvb4qIEbBnShAVnCrMjdLXz0GE7AJEjjIV3IOBy9IhDlFzRcZgAADewAAAX1Bm5lJqEFsmUwP/+RAEjo+DMWHD+yOW/tGiX3QGRxrZtwYD8cpH/SHDNn/m/5z9nXClxw7bYCUC/WBO1oTu9QgnP1lA2AT0S1Rv8dCBhyJNd5WUBdg7Xh/MiNkZJxA2/YHfMocvpGWTaQw3bNG8ikBp0SP7gURATxlPVgdLU0KHnezZpk0FPh2gdQ5VSV2pR5BbN7E9EqHi2+tOo85al9I50ZYAAyfi7VKKdXio7NFwhZPq/TSpAo876hWsG8eATmchMS/z3niOoMIIbR2KTZABvMoERZ0138nzoWRpmzfcdAotjwBZahda1/AUX5zY+ZEO9nBxfeEF5uityOObuCQPynJNdaqfuqgx2lEr8xObh/+LtE3YmqWLOMweNV8qn2fNeRK1dZ+WICPwvdpyD4Mz2B+rd262tBhr1Sx0+5PtE9ReHqF6qxgWjjjzPZhrqWJu33AaTyxsHV5yLk+0nHAeGCNnETkh8jzyCZvRHVr1HjB0nvlS4Uj6BUABdwAAADZQZ+3RRUtfwbcXCGSUCWXxPQjiA3+lzXmluVxbZA5voJDnYOKi60FbkrqDR4DVr8WtW2bFRHpdBm4Eq+f7pG9QDKVbpBJ5uwtIfJGiw9/Gt5UrnJVAoi2I3G73nX22M7TPofcLx12B/BmE7v373WhxJm7zRbAL7uKt50raBDJACKxMXpUJdmJ0iFPZGopCYG6tP3owrRGHeuyoGrKjVtnQwvFOqpTbIYF2mkBBV7qjPZyBgjOuuzUDU6DqFuL3Z72aeQY7jH9toowsIBA53VyiJegs4wGkAAVsQAAAIUBn9Z0Sf8H4i+s+ItP4tzdiqEzVbJxnTx2QFMpaFn0wDRLJZGuB2XCfyBCzqA5QeEEGq9u9PHBrU1Ul7GbPp6fBDvinOWUyAcbOLYwKSXZiy5bQI+JjhYSHyYr/t+pm1hjLVRI/FDJrwzEfQ6Ls/ofmMSEK9LBluGF6LQQSo2dqHRAAAUlAAAAOQGf2GpJ/we05OMiAl7v/qtZ+K0/of9ssm/043EGhZAvfimjnpRbOjku8N9MjWCcX8gAj904AAAd0AAAAYFBm91JqEFsmUwP/+RAEcPuf2SHeF4H/DU/EaoimHXhI+9bSskh/u7VNNGo3RsQOGlZdgwhqsD3U6SAEREpYhMYh5CEvBUlJ3UgHy5JE1FcyEMnig/EjjsSsUPDl7lJ3tjehjrEITEMbewoEW9WeyYVq8aq8Xz/UHATtVX32f20udaYjXQ4bSJQWj6Sdv0QwUChy7ueNC44qWErdtOZ70kxI7EvXeCno2kel+m5i926S/H1LKrw4BckgMm/PLaqiyCn/+BcftohufXXI+ZGD67YGWLOTUaaiQAtEBlUKqi3tweD9H0P+3zasgd+W7mE046DFfiScy9S71WM6bk3pXaNCmTLAB66eTFPhFMuTf6cxoag6kL2ss+n+DaPNYqZ0gTaCVnD8CF13iUTj/+dMOc6z6gIakO0jEl0chyBCEspPUZ9fxhJYwk//mipOVeEJ4v7yqWXWzzyx4Kq91/E+35NAAoYySMJWfA7MISlBZP6KN9JFB1SAgu8ieDURMPIgAMXAAAAwEGf+0UVLX8GtJ6doboM9XbDG+Dr168GbrV3o5VDatvIiGZlmo71P8e6ucLIucDMPQbFi/9fEQ75eZxh0wWxup/2fokWd3797JGAvZxTC1lmryUWqQGRwsBSq8dLUhQCLA1t4/h4LtU6GhlPig8bqSUTMOG7W5aTbSYM28QaZ/GsnLHl45hDCDQC5Za9ZrXD66onvIYXep76fq0w+I14TFroGlMHSWHxQ2auNCaZoLDGtikU/J6TIAhS1AbK8ABgwAAAAEIBnhp0Sf8Htf5EXAsa7EP1DzOPDQbKHo0ZtyXNsZvs3Is/ftuvQldhSXT7opOrl/BeeDkx63DHK0PDQ6BJi04AA3sAAABjAZ4cakn/B637PUSr2TNzuXTEagxKkA1Y8J1/LvBGChZF8xdFgYP+KnIASBW4oweZSFoK/uMS9PWq1pGFUuwL9bc4tjOBJgSbfchYCR/IW0TNQuh9YkSIah0D7/PcbaIAADFhAAAC9kGaAUmoQWyZTA//5EASXTaCT92KFO2cVoFj9IrWH595uN/rSszu6GAfEQ4wnrzpkO8oghgADeZ10q+fRkUUbOkCH8U0eXAHhQl0/zg39161/whfXQDuoq+6U5LXlXGoWpO+/Ro70660RfVbxDc6dQ+Kd8I2z7Z1FRDQy10VCTkNgK/lzg2wFovW0qQYZA/vJAHtsLsvEDS1KzkryI4kBIuOu//JpgyMRRVUcGyMDJUA94rYZNsCh6ipvSEpWpa6SZQe2sLx55wQKsE0psh4wx+BbxzKB86PbaAzmIBLsDnhT903781GXXgAHDqq3y1DECht6CbytIuE0SV0TCKUCrJPYKFs4QvzDrMBN0Aa75uirXbdTygcwypRz1VfOd4cjpB9GA8oa2CkPUpxvH3LJwG9PZH2Fsc4P6BXrOZT3jt9wHENlLUDT/E1S8m03u7pLlH0oYPTxHiqnMkZFXJlXHcO05UOocsm27LmY2DZoo8Py4ZNlsTSK5U/RlnATCY1kSGMgEVVx8geSuYSCUCPX26riEUKeFE0cV1XfQTGIGADjvlsG+EiJY+0HqJo6Bk+fmlSOxy0FjpnEJEkAEAqWZ5CR0CVlm4+eUuP22Kfkr1NyQ1TwAYZ1ScaB9CnabTdAMGXSv4+kORPDAZpxroS+tLrh+u4ArU5yzp3fCbmwRRoAwpjd84Fl7MwLLqXBQC+XT9wa70idX85VZ7OM+rWrXdPvizlyDMXTUhRh4xQufgTg0CEnAEyJt1EcozVPqzcvlt+mvOs0XDvmHqKyR98APxzY4LovoFzTjUO/RqhVHLe9wU9psXJfaxPYNvnJwy/74JtpyAOuY2jY4pCN1soMfUwpYzQMJ1DHOkhbZxZ6r1gynHF6peP0TyI2U88LF8VIBtGz5xWKhZ/v86WpQtW5IOF5hei/tz143Oh2RyWp3ADWsa4S38u6KFYUEHHPIbNlMQBe03rUKsD/OQgA/+jVjNxDwtNJo+OoE/W19qBFeil2h8rAAWUAAAAzkGeP0UVLX8G3JtWTdlHhhIf+v4JO1FXFZb1QDwvs+wTc3kpbYDsBoZWjjUq5Bjs0gPdQnQSYXDaTq8vfcgahTyDTVuODvKfxt3Nj4pHGvcI6qW5KFKCSwZPH+N6oIcSvzPya4kneIzl+lV7I0OKr5eJTcc5e+DJoA79jjR5ziB1gZcUF6Mz+YYHOd8rcJz8Ofsgpc+txwExzzuz2CSh1sjVbWYa9yDlLc2EV1evOt2/kP/MEeNAQeFTraC2Z6Uyx2t7hqCnOPG2PKUwAPCAAAAAagGeXnRJ/wfXADDX2y5gDEW7MA6dNAgotVt+JK92dmjHjYnM9tGc2yX0I6crJanypbjTEhDIUhmfcqhozbxXTVXdAuWNP+6ldn61w/STPskwze9BtOLyEXKa2VwLBmUrvprS15rI3W+ABJ0AAABAAZ5Aakn/EShn1aEB1Gd2rUAFjv4gm7nezS0ufGNOUueGepF1Xt5lsFjYfGlyL0AHSVzAgMGMjl5t9l6foAAEHAAAActBmkVJqEFsmUwP/+RAEjpr98n8IZsBBOyECqVqOoGJBNTvHiT5HhjstyaCd2frp+8CK633MSaXCJE4E4QjWdM3NysahPaOfUwBJfBSgMROiPea8VwPjs3ntNF2IFJSuh8zHieNXuB8G8dsVMd/oFd2Okecsnd3gQQT3AKVfGggtQBapTc6huGaj+z+ocCvsi5kDNfPIBIx+qtCQlMPurIvOuBqgSTXJMmSjn9QcsnlbZeA+7bANRG6ceFfLAsJ9/Hj50VWY/cSXoC5nmIHsjPDY5SDu0yj8M1v7HQpqMcUEzLHx7uvNkZ/noj6fAZYkBYxQr4UKL7oJN+CKOwPWo26/xGfIfUffOfLK4hcsGASpEvw2O61tOaAF0nzsckCtPlpybUxNYKVdY2RSUFV7Kp+Q7ILJENsFIFqyyybc83kXk6ffcRotFyASv0DjDwrgA2IN9SD2CQNLQBIBC6amdY2u0Lqq2jJSsDIydrf4aeKYd7uxQNJTTusjMU4KgTBiyx3zJtOjtoUFGYLTD0NIg5Kiv8EBaTpe8ZfMx6XwYSe/S2BBd99A/c/5rc0hka8X4VJgyLaFh834fo2O4HdlX/7FEbXfcRLb40AArcAAAC5QZ5jRRUtfw7nx1KeqiB4ErD/5UmrYu8RA8jMXEdTSe/d6xQ/JMC3XgJYgN615hmN7XuCEGgK8h7o7TmXQs12jTIPSL335Az5GhljLO/cvy+czBnC0HTZFyvYlnwS8BAtseXQEf7fzr4WhQ471mE5YeJyxA34S/Wg9VHusq5/6zj11J5YQJLB1ah7LeDYJ/KXyoeKjDwhI5tX+KXbS++MmbXMjqNmpRuW+kC75Qqx4gtx2PFjcrAA8IAAAABGAZ6CdEn/B9e+MS0iQ1v73ghAAzchQLdFGfJeBs0CdV5pBIN1KvstI6Mgp4Dyrly2yD5TfEHThJdvVznK5jVXZg2jQAADQwAAAGIBnoRqSf8DmJh9Gehy/QlZ9UTHMZp0whkFOtpcOSoqg5Qrq9mXwEKqU9XuwEiJHdFF5X635d/wIU921wfgS6dK8ZI+WuuvYBNhwG+xoOgjqM6/GdVC+3ElJ3zeXFzAAACNgQAAAeZBmolJqEFsmUwP/+RAAAHEelQKPJnYSXmQRhpEC+p0RKMq1wletP/Ps8MIb7V/zNvs0qMuJWMRRz0JmeK+yNLjXy6tT4mrwD9EkgP65xiLkw14IqG4b0wBNTu7pY+X88iY0n0uSET7dQN933iJEAtb7f55KIewL6eBx+gh8tmjvo3XlPHfYElvyV4gWTUxMVc8CSdFE7bQ0T2hUUeld2Peciqsqvxiv13HJewT/rrSWVlp8oJIPETiff2agODHN/3cxiuABvE8BWy9Wo1MzMMRXh8BWYW5jAbSStEUVgt2hL/HXtNMDXOGKoq+5Ow79JJ1WyOoQ4tjPfk/FjRTkSSkrjMAT33PEJem1GYX009NXBcfaIEOb9jTH2eV4kgG7ze2yp5dgPl66BL9SZ8PU7TyiQPVNsfpiKQAsXMAVGehm4znPC5hUK9PhiLC2IHnAKQzThAgJ8xzdeiRabD7EZKbQS8ByPPU9p8xqrnMUZGeKqZeoXs+5nrzS88PvzM7v/HRNRMOn1B3FpvFByUxpqSw2OJrtNgIwbu3PtcW3C65vzI9B+mIpKCY9au+EbEkodSPLcOlIKg0pQwburwIGZZ1UdrmHVJ/RmdEu256sFtFJ2ZbpAId20jcffWL3JDUYO1uTOPgATMAAADhQZ6nRRUtfw7l3sAi1TX0+EDgC4IplVcJMDRVT1KZz2M6a9+lX84+Ty7qkI6Ema69VF3d14Tkol5X7sq2dWTsKMCNjUbt+VPJbcX4OnlSntzT+l0MNUwNNcYsp2GDy4VCbnalFbwRi+Cmw/SncdvcX3w00xLjQIwZTNrIgWns0LYi2SZ4a1Dx3RaDrgfys1BYpf2vrotLIq1JEKVX2XHklb+J8l26qcx53QlvtwVEFROMatAGm+Fj5aoUODvXK+wfOcbl4/O2dXuHrfa4tCnsxfJLjL5/88E4WpDBUfCAAHzBAAAAeQGexnRJ/wOT2noTKpWyqF5uaTcBmexmM9AXFzCjpxwJFU50F45At1nTbZo6kMMPU9K6QqvWIGbSkSbixUOYrroJ9UMVpAZvk8d7tsIVN0j2l4irQiDBnb3t+VJD8KIFLIpn72Yl1q+77sREMMoDkgDP+q5qPMAACXgAAABeAZ7Iakn/A5iYfBwRCsweiH2irGXGZE9wwmlD5EIsbkhJ3Kf0twIM7wc4dD1l8O8GwuEfTS5OaeowmQkubPeBQIAORAUD/0ufFWZOp7mNVnjtiKt7jZ81M1PaeAA+4AAAAvVBms1JqEFsmUwP/+RAEgAPOxoBShrZjScLB/7lZHcKpzgASzS0WOLDqcjMagiXWjAchi3A9CalJAx1xJwGxrW0k5Dz/VNQGRLAP03P0tX68mTBT3zaTa//SwLSpWWq2gVHY//Ya3A2GD4owXCsJubcw4IGIx/7O2mLtiefy/mteQk6YCwjkeGUezsNdZHcu3zUpwQVBl1PYJWTTH0QtC9g/GtXpX8CxLNqfWMRHPpYeNc2KlXy9H3jita/nUS7Lph3/fUelOFyOxzy9loEAx0ZmfFLLCm7LxEO7StRTWL1X0CkKlNYR/hxW4OkDr2MXj4rnD3Q6a8YV6qX0kjyq50jiVIIE19VOgXEQoBnhROAAF3aj4KzuXuVjx2JbVgUfGKYIcd6Ly3IxtelKUukS+3Q/0lYhefCBeVbH6kX+dsmUNdiz7ktXJd0JBFPkw23wUXu4TYExd9iUyPBR7G0h75W776m8+fWJKQGDZL8kACqWLjNdR9wZWeUgTcxl5C1z3ia4uSWEwVMPzprF2WLYaXjW/IqZ2IB7Vq1nLn6U2OlEDcoOakYUoGTEAkf9J4N0HrZ/8VaGN6Fb2Gh1zN/OeLHnTo+YVBAik9FY4kfCzUDVgElIBkz8WSgdx94nWN2WPh1HqcTbjrgfxPtfsEj3S8jkCbuTbK58kMtY9t17AVxNgqxjLFvDeeHnU6wD2rN8rmPxJcqRmvAQs0k8jwlzhqU7TeXHnV2IE2Zkdk4G6k5ytqzgWPBM9h0CbE5y9VwV76uFAKsiVU/yqJpCQS0yHBrCoEr/zjdugnvEjILN+w5cjFfwhRl3TtB5llwZtKhr6+zCRwU2tQOYSr9EA6KwwT58aGeXeoFvL/DsQJaxlZDnGKid0QY+oPnMbQ+tdIzn7zcpxlHmSMHYkqdbUJtWH8YTnqnqsKtDCsnNoy48+H8tvSTxlfRL/zlKyaBlILV8LPB5++mHLRA/CGcO3TTAaicFsQIBucS5oYQp6oXJ3INQvcoADFhAAAArkGe60UVLX8O5ds6FirrCfEwoLi82Es4ZtjDUvN7ldgq/57robYWJvVG+3iShyeEZK8hgdEYTfil9/E2pYo+/gZ4UZWaLiv5dNIpNCBmwYWMF18EYCJ2DwSL+6hc0uOhUSYcB6PscwzGUEism5i8ZjkQDBMSO6ufLATOP8ihu4vRC6MGKdJQtHFGpUN9mHV/rDNLWD97J4wrj3W9KO8A2xdxyR9Cb5m4Wwl5JABHwAAAAHQBnwp0Sf8QN9XO6RdIpPP6tHP6RbYMnj3f+M/u7PtnQTV8Zq1lPR9zGzD1m+bmGNmbaxcuBMv6Ci+VLvBeGoUUCxEs9ltgChGH+ZnNkuJP3AiEp3weTPmOlZBLtheEfs4IFBzRR1lbi5/HMA2E2bVyOAAGpAAAAGkBnwxqSf8AAMawgZRmTVgTYJXBDtcGbd2Ja3aU6cXM65sNTSTXJc/W5gKHnm9gMrhzVm8LfpjDR0cVxdQJBneC0t10k9uMzcBigXeeXF16p4XULcOpXJs0eg/f8xCUwR5zwHYXcygAEnEAAAGxQZsRSahBbJlMD//kQBG5x1cSK8HokYaxoZ1wzWYtJcgmKdpOpWaN/ZOdFsFTOOVfpy1lvIRXLkkHit2HXYO87+3kfTKDU5zMiaSQ8Lmngf2A61gX7fnF7dyDUPtXBNeQqvzmo2nsVLkW5OZYn6gk3xK0pJfGooBaOla5ZqqlgW6qfwnC6Rh/dOrid91Q4WEceBuUrrkDDaDgX9xM4IoPBIJSAziY4aE8P6705a6zEBPq6N+EgJ9KAxw7/37mKljrUVHqgozpBLA5lKNJqr2fH3tF6wp/ufqLLeMkU6ACCb3sBCwhSeQL6KTf8mKxaZ4Jkbt/8Vwa2ujm81q91hKPRAT3x5BUEcFYB999oE6n+t45FC854n1YgaRxCXHXFuY8ahC63arHy+Fv3gfGsOr6EETl9lHFhuspv8hw83EmyigmXc0I3AaFvpg3XutMtvmmzF3dkL3O5LyTFChbqK4xCPFEoj0xm4dz5kpNJU8NDA2l4NWeCaCqybU7FOPSqGReBrw3ngm7a+JKTpTyrvA1cH4grv0hfoE5k0w1BBGPkpS69S07BlMVVxrNfOrlyyABMwAAANRBny9FFS1/DuX1e9R69BfWnR4k+u6pLTsOGK1A01ubHtx9Qjg2jIbEQ3EksbHZl+dmQnICHkJ4sutR64MfwImG315fcmWkJ+AYzry5WuGuaPNQhsZD4ZdIbFq/lfAwPuywKO78CEhW6Kw15QRM3+atbTNhXjXs4xbMByB7ok38hl7CSV7Ch52uSczvUA/9rT07JC8/yMqedzIDBSUDaENgU5R2WLg8LAvKK6B+RVoeIeH9+NxUn4ggjMmOemCbcd9ge4jqnwOwqrWqjCLVQ2LMgABbQQAAAFgBn050Sf8QC0cgRZxb2pRIdmkBQwaXKhWpaH7q5fVW3ZhU6r+hG29j0p6lZhDd97GjaOWJmW+7uljt+hXPdueLF02ePV6o0gmQBN+xoL5yqsxYX+b4AAJuAAAAxQGfUGpJ/xAiC34XKoEX4nvFFrbT4pGe5lx6QpnRqpfT8wDt8ssfTZ+G3UMDsFvth7i1LPcyjfFf8mMfx3cGODol0v6JGSgDty78vVh6d9x5AyfmmBK6d3PX9/jftgykTzpV6Syb8+jI6aC+zFcLZfSyzKpriAcoYbGRJD5RwiIWQE4CnRjQDHIpiMHgHnk7SxdFz6FpCDbmDelRpmGfGpW5H65Y6lUp5f53ryOWaeXM6WKAQvguNt4LecWZDiKFHr3XAAGfAAABfEGbVUmoQWyZTA//5EARxHu9kdj7Wl0alP6c+4t5Exp/8EeOQoexAvRyYXf0YrVi8SlvKVAuO8fsF8a/6JqcIbFCtH8f1bXmjvnnibVl2X4HSIE+QaRQ5NLhENpx0l8k+VzXeuf7pAz3PnqVJaFhHAfpq7XDE927pcybQhEJMwgtjUXhueGQmVNp8XYsxYnWZkGY1BIFMBFDYB9TbryOiCYnII+TDZPBLTWMIw+6BnwU6nFRx+5b+YzDg34H8uy+pzBOQ7DyLtwmODTv+jG9H7f1tFd8sl6/08uhM/RQh/2VT9n8NHTTdhAX+KOkQ7CgXoacDy2IOr11fr8oN3NgpMiWEFs2CgywLT8vE21P6s8vrhJO/u+tW4bwWWRWUtqDJyq4CPwfu8sCZZ6kUjdDF2GeK4c/fQeGgFKu681rbyAbXjCf6WMtHXFINXLmIYH6i+WN1sOLiEQdTUt+X2NyUiAM0qTFhPvx7Xoy3qzkKKBsP6uJrHNJveMMgAUlAAAApkGfc0UVLX8O5fdpky3sXZhzSVFT+Yb65xrdFRXQBP6c1+JhAfd+tUTDp7sICBVsjneKgBJFwewHEQM40rjgGQ1uN5fXCahs8veKNshVxU5Npb/S1wEwHH8QgQGuOGU4xJS8vv+YzuxFAR8wz3H7mDgLOcdiKwwtrTToFImSpfitabdP3Z/48MxfT2Pf7DnWPpSp+0QWRyNy4bKTzU0GUtydxDgAScAAAABTAZ+SdEn/EAsz4eovzc9Xnr/zw7kkfAlJsxmzEd5r01UI7w40FMpWhuotmHjopBhi/zi7Eu1RUd5P5q0LjCeYoGZBKcPnliFdLNRBNRtps+AAHpAAAABhAZ+Uakn/ECIKoI04wXwFp6aob0m1CHrqkyaYNJU6a988ftYsnQdTnMiLUiqmH+S0esV/JiGnifLCE+6KG0XygjEXAP9COGnvHf7Q6Nn0jrangq3RtjJ9bdlDO5cEcgABxwAAAYJBm5lJqEFsmUwP/+RAEcR7vDygAjXNLChsCahIPXMb65/teGdVGtMi3l7CqTOf8yB7/FC3ENoizj0jgZp5t5fQxK8xXuPHpo7HO6c/YNLIgCsHX5Fo++2bH0sfLRWHbwH3mAFYdS2Acr3gAYYXZ+D5ModT1lo8OqHQW5s6KEmL4Kvn03MQINrUuhyyqLMKwzRt7566nRX201RwWqZcx1NFtCvwmiaR3s4QKepgyXaGiS5/ARNXsqBxcwYrcyb7gQhbA74ZcIcjob/SrL42e7mSgB8Rqs5/YB8Hr1vd/JNJEYOfvBBWUzWijuVIKWUTJtqo7ZH/lkAfWClGynNhh0WDZ8/LrwnTDTaMgABoQIiTbsMS4kdCcmNNmdh1TR1wUJgti3iPv+S5ITp7qN7RaoB8pOZB5lNYB9fjshRApx1o4pFfdIQ/ysX7MF3TNPe1iwn1IipgSwENLb/d8LDmCETsZPKArLc9YN2e57feTQDoqZxzLUZyERNoifiUliVgTAAVsAAAANRBn7dFFS1/DuX3aZK2zz+glstf8TWrUo0Ku0ZYjfeMD6gGJT4Qyxxc0oqYOs4H8Cck9gH9TusWF04ooYipl54h+H8tgprsYusOSg2M+ckDStB+ojo3jyIGts/NQrmBaNOcXYcIRrxexE+gpBnSUHS5Y9GaNUBDWY/p3MFmDtNWSwcviyUNvcjr5ihzhrXPmm7qYWsOY+3rHr6OtY0teBnHiQXk+worUQjcv7ZxWqK2M+YzVvM8uH7xIFD+hOKFO3PJTasV/HoLJHqaMJmuWcrU/AADUwAAAFIBn9Z0Sf8QC0d4zxxbwQMIF62fwcB0hX/lsweYyMFeAQUVE6laWvWdxXt2J1j9XSu3/lkrj9An4tP9jajGGsZuD89jW2O4THSaX4H5XCnkABnxAAAAbAGf2GpJ/xAiCqCNOFLX64kroRh3+l8AdANs/30Ws3+XjUp8GxAWs6X6FtZWJHTAr6m+fTod6ADoKK14y3wJsjUAHsQxnGnGft3qWvycv4w3BvlFyqKN1NUYjGyKgqn9YSe2FRX47vlK+ABWwAAAAZ1Bm91JqEFsmUwP/+RAEcR7mB1sf77pCOx983ITSOke9WEo9KzH3F/gtYZpBH2Zjb5ajgoFYpc378OizDX24v9+xuqpamgitGtq7sLN9pPm+hklPK1XQKwmjGIbeJOOGX4sd5LGr7H9/f3vZ0buPqUBqQFuId8FXMkg5qjpWcOGn0Rbc2gK5NAjduUcFAO5EaHp2OvfSQ+9z2SbAfXklBfGACpVprYydQtWVsgJt+w1We7Gh7fAJz8hvAy3b851svu4By3xI/BkQOQWKimD6I1+II1g6jgWRkPU2RdNBz3nL+5ZeqjoG1+GmzRhzKlGi2bQc6KaosMIyfWV/1nb5iVKA3KIttLxjt/PvUxZdinPnzs5sfvCT5MCYsCgv4w6QNgDW9v1EUhbK/hmAYoE0SVgYmRcVPbbo+v9aJL3/SfGE3l3yr6mVM7QEbJr228UtgWUqfwS0V83nNx0RUIHfaivmPE4OL3jcb896W+ALRPxIz0BlyL6MYWwls2FXKv6ya7uCvT7pJZs0XILmrHwq0HEnbIlMaKD2jUyPQAFbQAAAP1Bn/tFFS1/DuX3aZNEAlaIsM1N96VzGrkwkf8X6Jk/RTTl01HWk91uYp64CEN+XFQdPSEhpshtwfwoFPsB8wWozJIM0pTdPJrmrTNomhY0Lywml+hrBjq6zXgRkIudjRgM5rnwcVvUJRd8/pU+Phs4hqfpJxQGgojZKCaGefeU/goNE1p11s3fM9W1sO50jmqcelyw/FFDRpGf56eoOqVFB14xQedH8svFLOeb/VKgNZO+M0PxGWRsx/UlgkFMEIrxio8C7mNEpq1/I98+NpSgF/3BDkSBeNNqIWTy6r+mhTZp6xNHpJz+adgv/jT7Zb6vmXXUWR+e6SGyQAHVAAAARQGeGnRJ/we1/vnGECKR1KU36GDat+jbU3DcU0CmC2ZixwBqs+HwUdJbQ7z46eqYQDvuWOh6qJWzttwGZLGZFtr88AAMqQAAAFQBnhxqSf8HtOTjIiJvj3MnGE+gw4qZHgp6cFEyZbO6Z4qh+jah+Hjn+ZWfba5ZnfByOWK9ZxugxntN60oPzqInL6GWaE2jNowUJUirxJ0Zi8gACDkAAAH1QZoBSahBbJlMD//kQBHdqsVqHdtdZWR2PwWSVe+IcSqt/jkyVBUy/DtP9nxgpYSkx0uzgD4Ij1Y3nl60xAtl7r3nFZTVfO0y7/BxlLOA7zqi0nQ7GEcKNL4Jugsq5UyGLJAht/GFcPMweQBLewI5CG+Rtj/X3VqPMBCzwfIk2Wq09ZMZAtK5BEdcQ+JsXMLFAffy+R9cNEF0GkGua/5ElkosiaP8wZPfIx/qIsv4Ttq/1tkv0cYtFwx/oypoMkPEHWsRkXBn5WDCuXi37KKxg3FWzMT3indXZLOuOVabVl8ZtCEEpgYC+ex6mR7/FkkrOhRjU0x5c1emuGPDE6pM3kFeB2AxmoXb6IOetjgg7v/fM4EdI7z9CUqta0VqpTCSopvBkxlc1FWgBLYrOr9Lra/X3YFnH083W8E8wenVNrQ0B7Py5NDcdwS5Mn//RzOkBMnXEycsX6KRspqIp+dq+W2JGPzt/nwHiHfdJmA/dBej+GGuIqUKluNT9l271knAm8PAj/961e+0/xkOLjRPyYaBOot/BGsahO8k0F6sdz4i4tiJT6LwvPgCpVPWmNqPplghlzX+y+gqb1HZdGRcflrcq4ww9qiWbcnCYWI4FKnKHTl4Vrt5QF+Wlgw+FI/YjnEzMS+ABivDvgOkcMQ7zP5IACtgAAABC0GeP0UVLX8O5eBo8Ugkawz/Bo3zeNdzquiXMnTcPs5E2NrIbO5/cDSjTw+tMVCrelt+KlJnw8I9Y9DKzqAmL+h92HayphaR0SsObBJfniv8kndDCcvTEKbdGlA8gW5kaZ4yQN+zAY5ZrGiNecC/thXX8w6qPoBzmkw3Pk07JvwPq52eG2GtqA4ZlMylGYtQvzIy/pdXVr6VIqtmdNu7uwqVEG47G45FVuAXMW0UuOrCMnjtRQst/QpICcRa3lbzx6hYry2+gJP9nEz7mfesuMZpHIR7/nSjb9oqlO8o91iJ1yQdKnzNV+YxEMEMSnDiEGI2w+FiIFJoKWApTaT78tHjRB9sO+1SqIACzgAAAFgBnl50Sf8Htf75xgjbmYvoWtIzQjsgZG8cmRVsscI4TG3jJZkmth3wfeePdOxdeTxAYCYeW1D7jYZ8Kd0JctvyIq+AbtwO68h/wmx1qKoFcPmlkYjIAAxZAAAAbAGeQGpJ/we05LlsxDEARe5vd98aIz+GDsNpk0rz9zbGg/H47gc2c5UevfAAzupIT4SU4CR15wcyVZtH3ePWgIXKUDz4voG/P4NaRFw6oBhvF54upLp1jOBDl4A3BoIRLv6KZDQAM7Ktj8AC7gAAAbdBmkVJqEFsmUwP/+RAEcpeFnLFHRH6vAhwIe5hz1P+Miaf9rjddkQZoGPMFVPI/5g4vXDo7+frtBy8SuRskJiLT9ExSv1BhsBmiBZ+9LX1WZv6+viLtw8MUgiDa3lAw064VWppz+VsYWAfKMoV+2Ne8mKT9AgTrBBIuAv/66xaVZgn7KZ2j6CkG+uGE66sibkkrWR2aQPoJYmrs97u/l9JpTS2htZlWWWUaefJgW+3jRQqX97xIVNLNLkCU0BPQ3BitTRy8n+7MxOz6xyG/padCWjY8ZfjPob5VfkqHEUkQzYpG1j+FOiez1ytAT0fmGD9bZDqXoYVxdgUQGjrbB4bRA3vKnH4QcDKzWJNDn+HhK8pdheLXuAVAPr7HvTshu2I8KHt9Qo2sRqUVk4tm7EA9yw/hYbOupRxvLeH0gIFk2x+Zdz892ti28ejEIhQOy/FYvBjrnN+7m7Zm2vdY1ic1Q+FwXkY8aDRmYJxCUpBUcvpcfxs26o8OT00k5w45Va8+5eJZtB4S/1SBG9+uTDnY4ugVXhytzblEqf0mTkmKhDn038iRJyBZZPJGtBoblA/kj/rgAMDAAAApEGeY0UVLX8O5eBo2CJAHJyYEwRfNx5NK+SszZd8BkPSp/5ZWxtUbD5L5g/v44HYZUNhLvBrqM6mPf6+HKOQzAdOn5RfMy5k13Vu5EWjyoJ94j7BHMdtQWCjISdJdeJt6sPMdle+RVAseSeHES/7T9kUzQcNlKVJfMwTjiJKB4BUIeSxfCeyCNr12FV6cctOpqjHOuSValRIdgpdo0B14hyAAMWAAAAAawGegnRJ/werBgslFNhP2TDo8vfHM3gJh+FZBuEzXe/uHJ7UUOOE2GjxiQrmwSO3iPlnS7ljR78OGf2+a4fg2IbV7qV/ZzBzh7tBYGTHPRj33ULs0dehijv/COCMhAKl8LTO9Hhew6kgAK2BAAAAWAGehGpJ/weszhOMKYrAKf6NhexgD2ZSAPHsjcME+iNbyJ8S3sTUrUPSPTMOz5buRZKvZkcUhCOmHo92YYHHKc4p2tuX+rXNOTe7OSg3mXQIrVRVzgAA44EAAAHKQZqJSahBbJlMD//kQBHKYPBY2+DaJ25gCU7n3YLhicLqmCtFQCtekIkhGx2z7UL9m8Yep/zLFteghpIXHfjZyBWb4EmiVoutZmkz/19/vLN1hadgphKBdywgp6EWzKKbHFiK/pv4I5hKIWEKLaM6lLEvUAqtJZGzw62LH/eZ7QsI3PkdgOxEnF6uTWpR5UOms2tW61b7N+sXHVbxyECusHx3n/6EEYLXZVdMblMANl5+1tIiZDUfjzDIUxJ91UXmrS+OEvQlXA31CPsocmsBVmiiuTXhMEHV3SQOO8Vy/AYWnA0U67KGLJDj7zwLhpBzbn8ksa19Sf+7S9axRPxmBuiABRrB6WtEKaKgmnMxV6N0gDEAobhlm7pwrasGQJlZq3E9yY1e/9HhiOVAIcO571YyQ5w5EYwFnvSoHulO11arF+x5rOmLWtSqjvtvk/+nS2JqUY3NhXjzgBX7J3AzvGRLv+TTHbNE7GLoiAh49Q6UrrOyPNhusWs30zA8eK+HeeDS4crqdUEB+kZBTcqCD6Zkey4cuwniWmo9bDn0x7jv6khyE7qgq49HKBWDi17cAPnK5RjEl/Qa0iqwPxZKm+P/A8TNKsQAKCEAAAEzQZ6nRRUtfw7l4F8x5+qtqnP5Omc5dJ1UwizX4/SKdW10ofic8aK/maF1YIKfzaA3hBFHkkh+6LfBx+Tmkhv+b9NGVlV+5g4+tY6+3vCr67HNkg3geFTRjDTFcP6Vg8n1QIIG81kE1ez8k/m6TKCkuu2U8sSifUiJBLP4t4jxRjK2kWq8ntzmktBcM4FyUoypg3/l87kcSHXVO1H01b6VUMwPeUWFcwipXV4PEk39ZlKh1n1HKqJvqBBv+qso89SbqjoCf8QIw/98dCgW7WNEsnq5TPYYIaEqjbc+0npjKSDWNnuLCX/QkX7wKKpGbFJBuJTlhV16hd3SlGEopbwEfmvla8407SLK+Cf5mPmXmWnR+miY9HXkV2YxsfoVn60aSb3foNHGVRQPloP+3uijAABTQQAAAIQBnsZ0Sf8Htf5EXArKTtl1W6IlXEjDkMYP+t0aX62sE1q6G9sEgMnY973SPNMpiPKCDK+N/MCexHTFj9CHUpiyw4R2q7FrCbkUCWQ5ioPPeSlymQi+8iR6eBDaRjpC5wyhs9SAjTehLgISyN+276tSDa4ResPM+vz7wqsA0Ha0mJCAA+YAAAA6AZ7Iakn/B7TkuWzEkRwrYwPYJvmFmObA3kdvO+2f/k4fh80SttuhMXH5K+CyvprLiLOjAH5cYAAR8AAAA8lBmspJqEFsmUwP/+RAcsLOIJmHHUNHJ1FPq+TDwwkMGw/ksJ+2HqQYNCNjFXO+cQeyDQdXfynmyW91tMIIwZ1D17Q6+QBPfHc0ql4/9Qc9krwpPtuH06308ubTdCGLX/6+DbgSjIoWwgXWrv4cfZKe1lYA8+6GcadeSAJ7ObHdnYWiA9yCU2p4jBAqexhK6r6QGJj8tZfvQKlge/gYK4qUP9whRtNELpK7H8RFkX8y0kOebtTRB1mgsO7yoAB0KBi5UXRFcyRek3EAAhDk3I4xXQdBTrciiR5KLELAvW5FnDMFvjUlLrN1jlHthuUK55/dKj1lO4vSrx7dEX874iuDQLDwfFVjt0RVSQEIMyNy5XGRH35i+RBGnjj9HbKfLSAFF7BMZsjUXChaZlC41hJsqZ/MEUApjV4o/UAW1detwpcVDlxGB81OITDIzuKF5LpKAYekY2OdF/xg6qK55+YERew49RQK0cXvKxYO16MGXW5OagFWs/ihEE85Em8KAJaIc5Nz5PVW5GrKRdjll8YVaRe/h6knxPO5YBxvW+le1dnJxn2girLobB6tv0XzDmEWRJxNmesnhQHIlFzvTnhlzE7Z2z1ZbyBgwVj78uwwaq5nf0DnI/lvV79QNgi1fJjHJq3FjrqZMxOQiqbkdgIu0gMZi/zVyDhv8Azroyy0yUyyB0Roo++mg68Tac0VxZiY1MMIlOjtBRBRZBGB5Z5RlufgoJG48/3za3E04c3awaDSGdu9awz7AJKG3y6Tw6VIw6SBs8OK+j13T2PqtJfM+WzF3GriHytGa/itITyFh//sryEYEWQ86kbCSoneB3yHIFPKkKtuD8i41EPd776ZXv0nqI+7BfkbdHXZv75/0uG++IJqUKDjMXFpZaEnQB3pRbKAobAUUrUDznFyNLTEe0PdsE9Dvyp5DTEYBXoUHVRB2HyW8TxZQM2nTFNQ5WzL/hAbus7FzhcwxsTd2uGYAiVeCcr6YJ7Z17L4bhNLFlczOx9f6suWmikbsatGxZmN7T1vy9Fo3iMDfLmweT2HK45ItJwQT1Qx0cUZvrjduTy1RxUVb6O4QeB5iIr5gY6d/qyfDmpCbgLAl4i93IuPW9ecgDxXhNUUUZJn0xxrSPPb3A9QkqBRk6cDERAuFEaUYagkFey672IZqXpgByAvnaHc+vVo0+L1Y/OtfAu3oby135RtK1WaIVJn+e7xjD9mjaQANCpAL3ubRtzVg+es0PN32RmZjUQN5FGCWia+9sU86dmh40o1hgdvLH/QWlUzMIWHnyAAD/EAAAglbW9vdgAAAGxtdmhkAAAAAAAAAAAAAAAAAAAD6AAABC4AAQAAAQAAAAAAAAAAAAAAAAEAAAAAAAAAAAAAAAAAAAABAAAAAAAAAAAAAAAAAABAAAAAAAAAAAAAAAAAAAAAAAAAAAAAAAAAAAAAAAAAAgAAB1B0cmFrAAAAXHRraGQAAAADAAAAAAAAAAAAAAABAAAAAAAABC4AAAAAAAAAAAAAAAAAAAAAAAEAAAAAAAAAAAAAAAAAAAABAAAAAAAAAAAAAAAAAABAAAAAAeAAAAKAAAAAAAAkZWR0cwAAABxlbHN0AAAAAAAAAAEAAAQuAAABAAABAAAAAAbIbWRpYQAAACBtZGhkAAAAAAAAAAAAAAAAAAAyAAAANYBVxAAAAAAALWhkbHIAAAAAAAAAAHZpZGUAAAAAAAAAAAAAAABWaWRlb0hhbmRsZXIAAAAGc21pbmYAAAAUdm1oZAAAAAEAAAAAAAAAAAAAACRkaW5mAAAAHGRyZWYAAAAAAAAAAQAAAAx1cmwgAAAAAQAABjNzdGJsAAAAr3N0c2QAAAAAAAAAAQAAAJ9hdmMxAAAAAAAAAAEAAAAAAAAAAAAAAAAAAAAAAeACgABIAAAASAAAAAAAAAABFUxhdmM2MS4zMy4xMDIgbGlieDI2NAAAAAAAAAAAAAAAGP//AAAANWF2Y0MBZAAg/+EAGGdkACCs2UHgUaEAAAMAAQAAAwDIDxgxlgEABmjr4bLIsP34+AAAAAAUYnRydAAAAAAAA6LPAAAAAAAAABhzdHRzAAAAAAAAAAEAAABrAAAAgAAAABRzdHNzAAAAAAAAAAEAAAABAAADYGN0dHMAAAAAAAAAagAAAAEAAAEAAAAAAQAAAoAAAAABAAABAAAAAAEAAAAAAAAAAQAAAIAAAAABAAABgAAAAAEAAACAAAAAAQAAAoAAAAABAAABAAAAAAEAAAAAAAAAAQAAAIAAAAABAAACgAAAAAEAAAEAAAAAAQAAAAAAAAABAAAAgAAAAAEAAAKAAAAAAQAAAQAAAAABAAAAAAAAAAEAAACAAAAAAQAAAgAAAAACAAAAgAAAAAEAAAKAAAAAAQAAAQAAAAABAAAAAAAAAAEAAACAAAAAAQAAAoAAAAABAAABAAAAAAEAAAAAAAAAAQAAAIAAAAABAAACgAAAAAEAAAEAAAAAAQAAAAAAAAABAAAAgAAAAAEAAAKAAAAAAQAAAQAAAAABAAAAAAAAAAEAAACAAAAAAQAAAoAAAAABAAABAAAAAAEAAAAAAAAAAQAAAIAAAAABAAACgAAAAAEAAAEAAAAAAQAAAAAAAAABAAAAgAAAAAEAAAKAAAAAAQAAAQAAAAABAAAAAAAAAAEAAACAAAAAAQAAAoAAAAABAAABAAAAAAEAAAAAAAAAAQAAAIAAAAABAAACgAAAAAEAAAEAAAAAAQAAAAAAAAABAAAAgAAAAAEAAAKAAAAAAQAAAQAAAAABAAAAAAAAAAEAAACAAAAAAQAAAoAAAAABAAABAAAAAAEAAAAAAAAAAQAAAIAAAAABAAACgAAAAAEAAAEAAAAAAQAAAAAAAAABAAAAgAAAAAEAAAKAAAAAAQAAAQAAAAABAAAAAAAAAAEAAACAAAAAAQAAAoAAAAABAAABAAAAAAEAAAAAAAAAAQAAAIAAAAABAAACgAAAAAEAAAEAAAAAAQAAAAAAAAABAAAAgAAAAAEAAAKAAAAAAQAAAQAAAAABAAAAAAAAAAEAAACAAAAAAQAAAoAAAAABAAABAAAAAAEAAAAAAAAAAQAAAIAAAAABAAACgAAAAAEAAAEAAAAAAQAAAAAAAAABAAAAgAAAAAEAAAKAAAAAAQAAAQAAAAABAAAAAAAAAAEAAACAAAAAAQAAAoAAAAABAAABAAAAAAEAAAAAAAAAAQAAAIAAAAABAAACgAAAAAEAAAEAAAAAAQAAAAAAAAABAAAAgAAAAAEAAAEAAAAAHHN0c2MAAAAAAAAAAQAAAAEAAABrAAAAAQAAAcBzdHN6AAAAAAAAAAAAAABrAAAOXAAAAb4AAAEPAAAAkwAAAJUAAAGFAAAAxAAAAkAAAAEIAAAA4gAAAL4AAAH5AAAA7QAAAMsAAADWAAAB0wAAAO8AAADBAAAA0QAAAkYAAAESAAAA2wAAAqoAAAEgAAAAsAAAAQAAAAMJAAABVgAAAOcAAADDAAACIwAAASQAAADSAAAAuAAAAqIAAAE3AAAAsQAAAJIAAAI1AAABCwAAAMAAAACoAAABmAAAAJMAAACcAAAAkwAAAc0AAACWAAAAjgAAAIYAAAF0AAAAvwAAAJkAAACPAAABgQAAAN0AAACJAAAAPQAAAYUAAADEAAAARgAAAGcAAAL6AAAA0gAAAG4AAABEAAABzwAAAL0AAABKAAAAZgAAAeoAAADlAAAAfQAAAGIAAAL5AAAAsgAAAHgAAABtAAABtQAAANgAAABcAAAAyQAAAYAAAACqAAAAVwAAAGUAAAGGAAAA2AAAAFYAAABwAAABoQAAAQEAAABJAAAAWAAAAfkAAAEPAAAAXAAAAHAAAAG7AAAAqAAAAG8AAABcAAABzgAAATcAAACIAAAAPgAAA80AAAAUc3RjbwAAAAAAAAABAAAAMAAAAGF1ZHRhAAAAWW1ldGEAAAAAAAAAIWhkbHIAAAAAAAAAAG1kaXJhcHBsAAAAAAAAAAAAAAAALGlsc3QAAAAkqXRvbwAAABxkYXRhAAAAAQAAAABMYXZmNjEuOS4xMDc=\" type=\"video/mp4\"/>\n",
       "      This browser does not support the video tag.\n",
       "      </video></td></tr></table>"
      ],
      "text/plain": [
       "<IPython.core.display.HTML object>"
      ]
     },
     "metadata": {},
     "output_type": "display_data"
    }
   ],
   "source": [
    "importlib.reload(arm_env)\n",
    "# Load the trained model\n",
    "load_model = PPO.load(\"ppo_arm\")\n",
    "\n",
    "# Test the trained model\n",
    "frames = []\n",
    "obs, _ = env.reset()\n",
    "done = False\n",
    "while not done:\n",
    "    action, _states = load_model.predict(obs)\n",
    "    obs, rewards, done, truncated, info = env.step(action)\n",
    "    frame = env.render(mode='rgb_array')\n",
    "    text_list = [\n",
    "        f'done: {done}',\n",
    "        f'reward: {rewards:.2f}',\n",
    "    ]\n",
    "    frames.append(add_text_frame(text_list, frame))\n",
    "media.show_video(frames, fps=fps)"
   ]
  },
  {
   "cell_type": "code",
   "execution_count": null,
   "metadata": {},
   "outputs": [],
   "source": []
  },
  {
   "cell_type": "code",
   "execution_count": null,
   "metadata": {},
   "outputs": [],
   "source": []
  },
  {
   "cell_type": "code",
   "execution_count": null,
   "metadata": {},
   "outputs": [],
   "source": []
  },
  {
   "cell_type": "code",
   "execution_count": null,
   "metadata": {},
   "outputs": [],
   "source": []
  }
 ],
 "metadata": {
  "kernelspec": {
   "display_name": ".venv",
   "language": "python",
   "name": "python3"
  },
  "language_info": {
   "codemirror_mode": {
    "name": "ipython",
    "version": 3
   },
   "file_extension": ".py",
   "mimetype": "text/x-python",
   "name": "python",
   "nbconvert_exporter": "python",
   "pygments_lexer": "ipython3",
   "version": "3.11.2"
  }
 },
 "nbformat": 4,
 "nbformat_minor": 2
}
